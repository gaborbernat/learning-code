{
 "cells": [
  {
   "cell_type": "markdown",
   "metadata": {},
   "source": [
    "# Functions"
   ]
  },
  {
   "cell_type": "markdown",
   "metadata": {},
   "source": [
    "Before functions you've been writing all your application within a single file, one line after another just as they would be executed. Now this will change, making maybe a bit harder to follow the flow of code, however in return we'll\n",
    "get two things:\n",
    "\n",
    "- template-ability,\n",
    "- isolation.\n",
    "\n",
    "For example, let's jump back to when we learned about dictionaries. At one point we were searching if a given country is within our capital dictionary:"
   ]
  },
  {
   "cell_type": "code",
   "execution_count": 1,
   "metadata": {},
   "outputs": [],
   "source": [
    "capitals = {\n",
    "    \"Europe\": {\n",
    "        \"UK\": {\n",
    "            \"England\": \"London\",\n",
    "            \"Northern Ireland\": \"Belfast\",\n",
    "            \"Wales\": \"Cardiff\",\n",
    "            \"Scotland\": \"Edinburgh\",\n",
    "        },\n",
    "        \"Hungary\": \"Budapest\",\n",
    "    },\n",
    "    \"North America\": {\"Canada\": \"Toronto\", \"USA\": \"Washington\",},\n",
    "    \"Asia\": {\"Japan\": \"Tokyo\", \"Thailand\": \"Bangkok\",},\n",
    "}"
   ]
  },
  {
   "cell_type": "markdown",
   "metadata": {},
   "source": [
    "The code went something like:"
   ]
  },
  {
   "cell_type": "code",
   "execution_count": 2,
   "metadata": {},
   "outputs": [
    {
     "name": "stdout",
     "output_type": "stream",
     "text": [
      "found Japan\n"
     ]
    }
   ],
   "source": [
    "search_for = \"Japan\"\n",
    "has_japan = False\n",
    "for countries in capitals.values():\n",
    "    if search_for in countries:\n",
    "        has_japan = True\n",
    "        print(\"found \" + search_for)\n",
    "if not has_japan:\n",
    "    print(\"could not find \" + search_for)"
   ]
  },
  {
   "cell_type": "markdown",
   "metadata": {},
   "source": [
    "What happened when we wanted to fine if Silky was within this dictionary? We pretty much copied and pasted the code\n",
    "chaning the ``search_for`` variable:"
   ]
  },
  {
   "cell_type": "code",
   "execution_count": 3,
   "metadata": {},
   "outputs": [
    {
     "name": "stdout",
     "output_type": "stream",
     "text": [
      "could not find Silky\n"
     ]
    }
   ],
   "source": [
    "search_for = \"Silky\"\n",
    "has_japan = False\n",
    "for countries in capitals.values():\n",
    "    if search_for in countries:\n",
    "        has_japan = True\n",
    "        print(\"found \" + search_for)\n",
    "if not has_japan:\n",
    "    print(\"could not find \" + search_for)"
   ]
  },
  {
   "cell_type": "markdown",
   "metadata": {},
   "source": [
    "This is not a great strategy in general though, as now we have twice as many code to read when we want to find out what our applications does. And what happens if we want to find out for five elements if their within capitals? Do we copy the above code five times? It's not a scalable solution, instead we would like to just be able to parametrize the  code snippet, and call it with five different values:"
   ]
  },
  {
   "cell_type": "code",
   "execution_count": 4,
   "metadata": {},
   "outputs": [],
   "source": [
    "def has_capital(search_for):\n",
    "    has = False\n",
    "    for countries in capitals.values():\n",
    "        if search_for in countries:\n",
    "            has = True\n",
    "            print(\"found \" + search_for)\n",
    "    if not has:\n",
    "        print(\"could not find \" + search_for)"
   ]
  },
  {
   "cell_type": "markdown",
   "metadata": {},
   "source": [
    "The function has:\n",
    "\n",
    "- name (we'll refer by this calling it),\n",
    "- parameters (input arguments),\n",
    "- result (return value)\n",
    "\n",
    "You can also think of functions as templates; the name is the template name, the template parameters are their input arguments, and the result is something that will be able to live after the template code instance ran. In the above example we don't have any result, so let's ignore that for now. The input/parameter argument is ``search_for``, while the name is ``has_capital``. To call the function we'll need to specify the name, and then specify its parameters within ``()`` brackets:"
   ]
  },
  {
   "cell_type": "code",
   "execution_count": 5,
   "metadata": {},
   "outputs": [
    {
     "name": "stdout",
     "output_type": "stream",
     "text": [
      "found Japan\n",
      "could not find Silky\n",
      "found UK\n"
     ]
    }
   ],
   "source": [
    "has_capital(\"Japan\")\n",
    "has_capital(\"Silky\")\n",
    "has_capital(\"UK\")"
   ]
  },
  {
   "cell_type": "markdown",
   "metadata": {},
   "source": [
    "Here we called it three times, and the above three lines plus the function definition is equivalent with:"
   ]
  },
  {
   "cell_type": "code",
   "execution_count": 6,
   "metadata": {},
   "outputs": [
    {
     "name": "stdout",
     "output_type": "stream",
     "text": [
      "found Japan\n",
      "could not find Silky\n",
      "found UK\n"
     ]
    }
   ],
   "source": [
    "search_for = \"Japan\"\n",
    "has_japan = False\n",
    "for countries in capitals.values():\n",
    "    if search_for in countries:\n",
    "        has_japan = True\n",
    "        print(\"found \" + search_for)\n",
    "if not has_japan:\n",
    "    print(\"could not find \" + search_for)\n",
    "\n",
    "search_for = \"Silky\"\n",
    "has_japan = False\n",
    "for countries in capitals.values():\n",
    "    if search_for in countries:\n",
    "        has_japan = True\n",
    "        print(\"found \" + search_for)\n",
    "if not has_japan:\n",
    "    print(\"could not find \" + search_for)\n",
    "\n",
    "search_for = \"UK\"\n",
    "has_japan = False\n",
    "for countries in capitals.values():\n",
    "    if search_for in countries:\n",
    "        has_japan = True\n",
    "        print(\"found \" + search_for)\n",
    "if not has_japan:\n",
    "    print(\"could not find \" + search_for)    "
   ]
  },
  {
   "cell_type": "markdown",
   "metadata": {},
   "source": [
    "# calling functions from functions"
   ]
  },
  {
   "cell_type": "markdown",
   "metadata": {},
   "source": [
    "Whenever a function is called, the code execution at the call line is suspended, and it jumps to within the function body (the part after the ``def has_capital(search_for):``) and we execute line by line the functions body. When the function body finishes, the execution goes back to where we called the function from."
   ]
  },
  {
   "cell_type": "code",
   "execution_count": 7,
   "metadata": {},
   "outputs": [
    {
     "name": "stdout",
     "output_type": "stream",
     "text": [
      "found Japan\n",
      "could not find Silky\n",
      "found UK\n"
     ]
    }
   ],
   "source": [
    "def has_capital(search_for):\n",
    "    has = False\n",
    "    for countries in capitals.values():\n",
    "        if search_for in countries:\n",
    "            has = True\n",
    "            print(\"found \" + search_for)\n",
    "    if not has:\n",
    "        print(\"could not find \" + search_for)\n",
    "\n",
    "has_capital(\"Japan\")\n",
    "has_capital(\"Silky\")\n",
    "has_capital(\"UK\")"
   ]
  },
  {
   "cell_type": "markdown",
   "metadata": {},
   "source": [
    "In the above example we first execute line 1 (``def has_capital(search_for):``) however this does not run that function. It simply declare the function, registers within the application that by the way there's a function called ``has_capital`` that takes one argument (parameter) that will be referred within the function as ``search_for``. Then the next execution line will be after the function body, which is ``has_capital(\"Japan\")``. This line though calls the function, suspending the execution of that line, and jumps into the body of ``has_capital`` where the ``search_for`` variable name will contain the value of ``\"Japan\"``. Once the function finishes (after the for loop goes through all values of capitals, and the final if statement checks that we did find Japan, the control jumps back to the line of ``has_capital(\"Japan\")``, and at that point having executed that function, continues on to the next line ``has_capital(\"Silky\")``; which start all over the suspend, jump into function, finish function, return control flow to the call site. Similarly with ``has_capital(\"UK\")`` after which we have no more lines to run, so the application finishes. "
   ]
  },
  {
   "cell_type": "markdown",
   "metadata": {},
   "source": [
    "Here's another demonstration of this, where functions pass there and back their execution flow, in a ping-pong fashion:"
   ]
  },
  {
   "cell_type": "code",
   "execution_count": 8,
   "metadata": {},
   "outputs": [
    {
     "name": "stdout",
     "output_type": "stream",
     "text": [
      "before ping(2) call\n",
      "start ping 2\n",
      "start pong 1\n",
      "start ping 0\n",
      "end ping 0\n",
      "end pong 0\n",
      "end ping 1\n",
      "after ping(2) call\n"
     ]
    }
   ],
   "source": [
    "def ping(count):\n",
    "    print(\"start ping \" + str(count))\n",
    "    if count > 0:\n",
    "        count = count - 1\n",
    "        pong(count)\n",
    "    print(\"end ping \" + str(count))\n",
    "\n",
    "def pong(count):\n",
    "    print(\"start pong \" + str(count))\n",
    "    if count > 0:\n",
    "        count = count - 1\n",
    "        ping(count)\n",
    "    print(\"end pong \" + str(count))\n",
    "\n",
    "print('before ping(2) call')\n",
    "ping(2)\n",
    "print('after ping(2) call')"
   ]
  },
  {
   "cell_type": "markdown",
   "metadata": {},
   "source": [
    "The two functions call each other up to the parameter count, in the following fashion:\n",
    "\n",
    "1. on line ``def ping(count):`` gets executed that defines the function ``ping`` taking a ``count`` parameter; the body is ignored for now, that will be only executed once you call the function (template),\n",
    "2. on line ``def poing(count):`` gets executed that defines the function ``pong`` taking a ``count`` parameter\n",
    "3. ``print('before ping(2) call')`` just prints out some text to the screen,\n",
    "4. then line ``ping(2)`` executes, which says call the function ``ping`` where the ``count`` is the number 2; this suspends the code execution at this call, and starts running the body of ``ping`` (we'll return here after that body execution finishes).\n",
    "5. ping first prints a message to the screen via ``print(\"start ping \" + str(count))``\n",
    "6. ping now checks if the count variable is greater than 0 (it is as we just passed in the value 2), and because it is , decreases it and calls the ``pong`` function with the new count value of ``1``. Again at this point this ping function body execution is suspended, and execution will not continue until the called functions body (``pong``) finishes running.\n",
    "7. ``pong`` now does all the same... and so they ping-pong back to each other until the count is decreased down to the value of 0. At this point they stop calling the other, the final ping/pong body finishes by executing its ``print('after...)`` code, and flow returns back to the callers body. As you can see now the code parts following the function calls execute in reverse order (note the output)."
   ]
  },
  {
   "cell_type": "markdown",
   "metadata": {},
   "source": [
    "# returning values from functions"
   ]
  },
  {
   "cell_type": "markdown",
   "metadata": {},
   "source": [
    "While functions are great to parametrize code, all variables defined within the function live only within the body of the function, they are not visible from the outside:"
   ]
  },
  {
   "cell_type": "code",
   "execution_count": 9,
   "metadata": {},
   "outputs": [],
   "source": [
    "def best_dog_breed():\n",
    "    breed = \"Yorkie\"\n",
    "    print(\"The best dog bread is \" + breed)"
   ]
  },
  {
   "cell_type": "code",
   "execution_count": 10,
   "metadata": {},
   "outputs": [
    {
     "name": "stdout",
     "output_type": "stream",
     "text": [
      "The best dog bread is Yorkie\n"
     ]
    }
   ],
   "source": [
    "best_dog_breed()"
   ]
  },
  {
   "cell_type": "code",
   "execution_count": 11,
   "metadata": {},
   "outputs": [
    {
     "ename": "NameError",
     "evalue": "name 'breed' is not defined",
     "output_type": "error",
     "traceback": [
      "\u001b[0;31m---------------------------------------------------------------------------\u001b[0m",
      "\u001b[0;31mNameError\u001b[0m                                 Traceback (most recent call last)",
      "\u001b[0;32m<ipython-input-11-0135a25af321>\u001b[0m in \u001b[0;36m<module>\u001b[0;34m\u001b[0m\n\u001b[0;32m----> 1\u001b[0;31m \u001b[0mbreed\u001b[0m\u001b[0;34m\u001b[0m\u001b[0;34m\u001b[0m\u001b[0m\n\u001b[0m",
      "\u001b[0;31mNameError\u001b[0m: name 'breed' is not defined"
     ]
    }
   ],
   "source": [
    "breed"
   ]
  },
  {
   "cell_type": "markdown",
   "metadata": {},
   "source": [
    "As the above demonstrates the breed variable defined within the function is not visible from outside that function. The function traps it within. Not allowing us to do reuse that after the call, as in:"
   ]
  },
  {
   "cell_type": "code",
   "execution_count": 12,
   "metadata": {},
   "outputs": [
    {
     "name": "stdout",
     "output_type": "stream",
     "text": [
      "The best dog bread is Yorkie\n",
      "I love None\n"
     ]
    }
   ],
   "source": [
    "best_breed = best_dog_breed()\n",
    "print(\"I love \" + str(best_breed))"
   ]
  },
  {
   "cell_type": "markdown",
   "metadata": {},
   "source": [
    "The way we can allow local variables to escape from functions is by ``return``-ing them. \n",
    "All functions in Python by default (that is if there's no ``return`` line executed within their body) return the value ``None``. This is just a placeholder for no value. This is why the above code printed ``I love None``. We need to fix our function to return the bread to allow the above code to work as expected:"
   ]
  },
  {
   "cell_type": "code",
   "execution_count": 13,
   "metadata": {},
   "outputs": [
    {
     "name": "stdout",
     "output_type": "stream",
     "text": [
      "The best dog breed is Yorkie\n",
      "I love Yorkie\n"
     ]
    }
   ],
   "source": [
    "def best_dog_breed_with_return():\n",
    "    breed = \"Yorkie\"\n",
    "    print(\"The best dog breed is \" + breed)\n",
    "    return breed\n",
    "\n",
    "best_breed = best_dog_breed_with_return()\n",
    "print(\"I love \" + str(best_breed))"
   ]
  },
  {
   "cell_type": "markdown",
   "metadata": {},
   "source": [
    "If a function returns a value you can save the return value at the call location by using the variable definition\n",
    "form of `` name = ...`` as the above code demonstrates."
   ]
  },
  {
   "cell_type": "markdown",
   "metadata": {},
   "source": [
    "# Multiple return values"
   ]
  },
  {
   "cell_type": "markdown",
   "metadata": {},
   "source": [
    "In Python we can return multiple elements from within the function, by just enumerating them with the ``,``. Similarly you can save at the function call location those values into new variables via the ``,`` enumeration on the left side\n",
    "of the ``=``."
   ]
  },
  {
   "cell_type": "code",
   "execution_count": 14,
   "metadata": {},
   "outputs": [],
   "source": [
    "def great_names():\n",
    "    dog = \"Silky\"\n",
    "    human = [\"Lisa\", \"Bernat\"]\n",
    "    return dog, human"
   ]
  },
  {
   "cell_type": "code",
   "execution_count": 15,
   "metadata": {},
   "outputs": [
    {
     "name": "stdout",
     "output_type": "stream",
     "text": [
      "Silky\n",
      "['Lisa', 'Bernat']\n"
     ]
    }
   ],
   "source": [
    "great_dog_name, great_human_names = great_names()\n",
    "print(great_dog_name)\n",
    "print(great_human_names)"
   ]
  },
  {
   "cell_type": "markdown",
   "metadata": {},
   "source": [
    "# Global and function scopes"
   ]
  },
  {
   "cell_type": "markdown",
   "metadata": {},
   "source": [
    "Defining variables in Python are always bound to a scope. Think of scopes as a dictionary where we store what variables and function we have defined. The keys are the variable/function **names**, while the values will be the content of the variables, or the functions. \n",
    "\n",
    "Though in the future we'll learn about other scopes too, for now we've ran into two of these:\n",
    "- global scope,\n",
    "- function scopes.\n",
    "\n",
    "Given a python file, all variables defined **not within a function** is defined within the **global scope** (dictionary). Such variables can be therefore accessed from anywhere within the file, even from within functions. For example: "
   ]
  },
  {
   "cell_type": "code",
   "execution_count": 16,
   "metadata": {},
   "outputs": [],
   "source": [
    "from lolviz import callsviz\n",
    "from IPython.display import display"
   ]
  },
  {
   "cell_type": "code",
   "execution_count": 17,
   "metadata": {},
   "outputs": [
    {
     "name": "stdout",
     "output_type": "stream",
     "text": [
      "['Yorkie', 'Pug']\n",
      "no it is not\n"
     ]
    },
    {
     "data": {
      "image/svg+xml": [
       "<?xml version=\"1.0\" encoding=\"UTF-8\" standalone=\"no\"?>\n",
       "<!DOCTYPE svg PUBLIC \"-//W3C//DTD SVG 1.1//EN\"\n",
       " \"http://www.w3.org/Graphics/SVG/1.1/DTD/svg11.dtd\">\n",
       "<!-- Generated by graphviz version 2.43.0 (0)\n",
       " -->\n",
       "<!-- Title: G Pages: 1 -->\n",
       "<svg width=\"197pt\" height=\"79pt\"\n",
       " viewBox=\"0.00 0.00 197.00 79.00\" xmlns=\"http://www.w3.org/2000/svg\" xmlns:xlink=\"http://www.w3.org/1999/xlink\">\n",
       "<g id=\"graph0\" class=\"graph\" transform=\"scale(1 1) rotate(0) translate(4 75)\">\n",
       "<title>G</title>\n",
       "<polygon fill=\"white\" stroke=\"transparent\" points=\"-4,4 -4,-75 193,-75 193,4 -4,4\"/>\n",
       "<!-- node140325335571504 -->\n",
       "<g id=\"node1\" class=\"node\">\n",
       "<title>node140325335571504</title>\n",
       "<polygon fill=\"#d9e6f5\" stroke=\"#444443\" stroke-width=\"0.5\" points=\"112,-71 0,-71 0,-39 112,-39 112,-71\"/>\n",
       "<polygon fill=\"#d9e6f5\" stroke=\"transparent\" points=\"2,-56 2,-69 110,-69 110,-56 2,-56\"/>\n",
       "<polyline fill=\"none\" stroke=\"#444443\" points=\"2,-56 110,-56 \"/>\n",
       "<text text-anchor=\"start\" x=\"39.8\" y=\"-59.2\" font-family=\"Times,serif\" font-style=\"italic\" font-size=\"11.00\" fill=\"#444443\">globals</text>\n",
       "<polygon fill=\"#d9e6f5\" stroke=\"transparent\" points=\"2,-54 2,-56 110,-56 110,-54 2,-54\"/>\n",
       "<polygon fill=\"#d9e6f5\" stroke=\"transparent\" points=\"2,-41 2,-54 96,-54 96,-41 2,-41\"/>\n",
       "<polyline fill=\"none\" stroke=\"#444443\" points=\"96,-41 96,-54 \"/>\n",
       "<text text-anchor=\"start\" x=\"2.82\" y=\"-44.2\" font-family=\"Helvetica,sans-Serif\" font-size=\"11.00\" fill=\"#444443\">great_dog_breeds </text>\n",
       "<polygon fill=\"#d9e6f5\" stroke=\"transparent\" points=\"96,-41 96,-54 110,-54 110,-41 96,-41\"/>\n",
       "<text text-anchor=\"start\" x=\"96.89\" y=\"-44.2\" font-family=\"Helvetica,sans-Serif\" font-size=\"11.00\" fill=\"#444443\"> &#160;&#160;&#160;</text>\n",
       "</g>\n",
       "<!-- node140325361861568 -->\n",
       "<g id=\"node2\" class=\"node\">\n",
       "<title>node140325361861568</title>\n",
       "<polygon fill=\"#d9e6f5\" stroke=\"#444443\" stroke-width=\"0.5\" points=\"91.5,-32 20.5,-32 20.5,0 91.5,0 91.5,-32\"/>\n",
       "<polygon fill=\"#d9e6f5\" stroke=\"transparent\" points=\"23,-17 23,-30 90,-30 90,-17 23,-17\"/>\n",
       "<polyline fill=\"none\" stroke=\"#444443\" points=\"23,-17 90,-17 \"/>\n",
       "<text text-anchor=\"start\" x=\"23.6\" y=\"-20.2\" font-family=\"Times,serif\" font-style=\"italic\" font-size=\"11.00\" fill=\"#444443\">is_great_breed</text>\n",
       "<polygon fill=\"#d9e6f5\" stroke=\"transparent\" points=\"23,-15 23,-17 90,-17 90,-15 23,-15\"/>\n",
       "<polygon fill=\"#d9e6f5\" stroke=\"transparent\" points=\"23,-2 23,-15 61,-15 61,-2 23,-2\"/>\n",
       "<polyline fill=\"none\" stroke=\"#444443\" points=\"61,-2 61,-15 \"/>\n",
       "<text text-anchor=\"start\" x=\"37.38\" y=\"-5.2\" font-family=\"Helvetica,sans-Serif\" font-size=\"11.00\" fill=\"#444443\">is_it </text>\n",
       "<polygon fill=\"#d9e6f5\" stroke=\"transparent\" points=\"68,-2 68,-15 90,-15 90,-2 68,-2\"/>\n",
       "<text text-anchor=\"start\" x=\"69\" y=\"-5.2\" font-family=\"Helvetica,sans-Serif\" font-size=\"11.00\" fill=\"#444443\"> &#160;&#160;&#160;</text>\n",
       "</g>\n",
       "<!-- node140325335571504&#45;&gt;node140325361861568 -->\n",
       "<!-- node4466958528 -->\n",
       "<g id=\"node3\" class=\"node\">\n",
       "<title>node4466958528</title>\n",
       "<polygon fill=\"none\" stroke=\"black\" stroke-width=\"0.5\" points=\"189,-62 120,-62 120,-32 189,-32 189,-62\"/>\n",
       "<polygon fill=\"#fefecd\" stroke=\"transparent\" points=\"121.5,-50 121.5,-61 161.5,-61 161.5,-50 121.5,-50\"/>\n",
       "<polyline fill=\"none\" stroke=\"black\" points=\"121.5,-50 161.5,-50 161.5,-61 \"/>\n",
       "<text text-anchor=\"start\" x=\"139\" y=\"-52.8\" font-family=\"Helvetica,sans-Serif\" font-size=\"9.00\" fill=\"#444443\">0</text>\n",
       "<polygon fill=\"#fefecd\" stroke=\"transparent\" points=\"161.5,-50 161.5,-61 188.5,-61 188.5,-50 161.5,-50\"/>\n",
       "<polyline fill=\"none\" stroke=\"black\" points=\"161.5,-50 188.5,-50 \"/>\n",
       "<text text-anchor=\"start\" x=\"172.5\" y=\"-52.8\" font-family=\"Helvetica,sans-Serif\" font-size=\"9.00\" fill=\"#444443\">1</text>\n",
       "<polygon fill=\"#fefecd\" stroke=\"transparent\" points=\"121.5,-33 121.5,-50 161.5,-50 161.5,-33 121.5,-33\"/>\n",
       "<polyline fill=\"none\" stroke=\"black\" points=\"161.5,-33 161.5,-50 \"/>\n",
       "<text text-anchor=\"start\" x=\"124.32\" y=\"-38.2\" font-family=\"Helvetica,sans-Serif\" font-size=\"11.00\" fill=\"#444443\">&#39;Yorkie&#39;</text>\n",
       "<polygon fill=\"#fefecd\" stroke=\"transparent\" points=\"161.5,-33 161.5,-50 188.5,-50 188.5,-33 161.5,-33\"/>\n",
       "<text text-anchor=\"start\" x=\"163.11\" y=\"-38.2\" font-family=\"Helvetica,sans-Serif\" font-size=\"11.00\" fill=\"#444443\">&#39;Pug&#39;</text>\n",
       "</g>\n",
       "<!-- node140325335571504&#45;&gt;node4466958528 -->\n",
       "<g id=\"edge2\" class=\"edge\">\n",
       "<title>node140325335571504:c&#45;&gt;node4466958528</title>\n",
       "<path fill=\"none\" stroke=\"#444443\" stroke-width=\"0.5\" d=\"M107.63,-47C109.73,-47 112.6,-47 115.9,-47\"/>\n",
       "<ellipse fill=\"#444443\" stroke=\"#444443\" stroke-width=\"0.5\" cx=\"105.6\" cy=\"-47\" rx=\"1.6\" ry=\"1.6\"/>\n",
       "<polygon fill=\"#444443\" stroke=\"#444443\" stroke-width=\"0.5\" points=\"115.93,-48.4 119.93,-47 115.93,-45.6 115.93,-48.4\"/>\n",
       "</g>\n",
       "<!-- node4405160824 -->\n",
       "<g id=\"node4\" class=\"node\">\n",
       "<title>node4405160824</title>\n",
       "<text text-anchor=\"start\" x=\"144.5\" y=\"-5.3\" font-family=\"Times,serif\" font-style=\"italic\" font-size=\"9.00\" fill=\"#444443\">False</text>\n",
       "</g>\n",
       "<!-- node140325361861568&#45;&gt;node4405160824 -->\n",
       "<g id=\"edge3\" class=\"edge\">\n",
       "<title>node140325361861568:c&#45;&gt;node4405160824</title>\n",
       "<path fill=\"none\" stroke=\"#444443\" stroke-width=\"0.5\" d=\"M83.38,-8C92.92,-8 120.51,-8 138.1,-8\"/>\n",
       "<ellipse fill=\"#444443\" stroke=\"#444443\" stroke-width=\"0.5\" cx=\"81.6\" cy=\"-8\" rx=\"1.6\" ry=\"1.6\"/>\n",
       "<polygon fill=\"#444443\" stroke=\"#444443\" stroke-width=\"0.5\" points=\"138.34,-9.4 142.34,-8 138.34,-6.6 138.34,-9.4\"/>\n",
       "</g>\n",
       "</g>\n",
       "</svg>\n"
      ],
      "text/plain": [
       "<graphviz.files.Source at 0x108b72460>"
      ]
     },
     "metadata": {},
     "output_type": "display_data"
    }
   ],
   "source": [
    "great_dog_breeds = [\"Yorkie\", \"Pug\"]\n",
    "\n",
    "def is_great_breed(name):\n",
    "    is_it = name in great_dog_breeds\n",
    "    if is_it is True:\n",
    "        print(\"yes it is\")\n",
    "    else:\n",
    "        print(\"no it is not\")\n",
    "    display(callsviz(varnames=('great_dog_breeds', 'is_great_breed', 'is_it')))\n",
    "\n",
    "print(great_dog_breeds)\n",
    "is_great_breed(\"Beagle\")"
   ]
  },
  {
   "cell_type": "markdown",
   "metadata": {},
   "source": [
    "In the above code, the variable ``great_dog_breeds`` is defined within the global scope, and as such available within all functions defined within the same file. This allows us to use it within both the function and outside of it, as the example above shows. If however the great_dog_breeds would be defined within the function, we'd need to return it to be able to achieve the same:"
   ]
  },
  {
   "cell_type": "code",
   "execution_count": 18,
   "metadata": {},
   "outputs": [
    {
     "name": "stdout",
     "output_type": "stream",
     "text": [
      "no it is not\n"
     ]
    },
    {
     "data": {
      "image/svg+xml": [
       "<?xml version=\"1.0\" encoding=\"UTF-8\" standalone=\"no\"?>\n",
       "<!DOCTYPE svg PUBLIC \"-//W3C//DTD SVG 1.1//EN\"\n",
       " \"http://www.w3.org/Graphics/SVG/1.1/DTD/svg11.dtd\">\n",
       "<!-- Generated by graphviz version 2.43.0 (0)\n",
       " -->\n",
       "<!-- Title: G Pages: 1 -->\n",
       "<svg width=\"209pt\" height=\"97pt\"\n",
       " viewBox=\"0.00 0.00 209.00 96.50\" xmlns=\"http://www.w3.org/2000/svg\" xmlns:xlink=\"http://www.w3.org/1999/xlink\">\n",
       "<g id=\"graph0\" class=\"graph\" transform=\"scale(1 1) rotate(0) translate(4 92.5)\">\n",
       "<title>G</title>\n",
       "<polygon fill=\"white\" stroke=\"transparent\" points=\"-4,4 -4,-92.5 205,-92.5 205,4 -4,4\"/>\n",
       "<!-- node4467647968 -->\n",
       "<g id=\"node1\" class=\"node\">\n",
       "<title>node4467647968</title>\n",
       "<polygon fill=\"#d9e6f5\" stroke=\"#444443\" stroke-width=\"0.5\" points=\"81,-88.5 43,-88.5 43,-60.5 81,-60.5 81,-88.5\"/>\n",
       "<polygon fill=\"#d9e6f5\" stroke=\"transparent\" points=\"45,-73.5 45,-86.5 79,-86.5 79,-73.5 45,-73.5\"/>\n",
       "<polyline fill=\"none\" stroke=\"#444443\" points=\"45,-73.5 79,-73.5 \"/>\n",
       "<text text-anchor=\"start\" x=\"45.8\" y=\"-76.7\" font-family=\"Times,serif\" font-style=\"italic\" font-size=\"11.00\" fill=\"#444443\">globals</text>\n",
       "<polygon fill=\"#d9e6f5\" stroke=\"transparent\" points=\"45,-71.5 45,-73.5 79,-73.5 79,-71.5 45,-71.5\"/>\n",
       "<text text-anchor=\"start\" x=\"50.25\" y=\"-64.3\" font-family=\"Helvetica,sans-Serif\" font-size=\"9.00\" fill=\"#444443\"> ... </text>\n",
       "</g>\n",
       "<!-- node4469286976 -->\n",
       "<g id=\"node2\" class=\"node\">\n",
       "<title>node4469286976</title>\n",
       "<polygon fill=\"#d9e6f5\" stroke=\"#444443\" stroke-width=\"0.5\" points=\"124,-53 0,-53 0,-6 124,-6 124,-53\"/>\n",
       "<polygon fill=\"#d9e6f5\" stroke=\"transparent\" points=\"2,-37.5 2,-50.5 122,-50.5 122,-37.5 2,-37.5\"/>\n",
       "<polyline fill=\"none\" stroke=\"#444443\" points=\"2,-37.5 122,-37.5 \"/>\n",
       "<text text-anchor=\"start\" x=\"23.6\" y=\"-40.7\" font-family=\"Times,serif\" font-style=\"italic\" font-size=\"11.00\" fill=\"#444443\">is_great_breed_2</text>\n",
       "<polygon fill=\"#d9e6f5\" stroke=\"transparent\" points=\"2,-35.5 2,-37.5 122,-37.5 122,-35.5 2,-35.5\"/>\n",
       "<polygon fill=\"#d9e6f5\" stroke=\"transparent\" points=\"2,-22.5 2,-35.5 108,-35.5 108,-22.5 2,-22.5\"/>\n",
       "<polyline fill=\"none\" stroke=\"#444443\" points=\"108,-22.5 108,-35.5 \"/>\n",
       "<text text-anchor=\"start\" x=\"2.71\" y=\"-25.7\" font-family=\"Helvetica,sans-Serif\" font-size=\"11.00\" fill=\"#444443\">great_dog_breeds_2 </text>\n",
       "<polygon fill=\"#d9e6f5\" stroke=\"transparent\" points=\"108,-22.5 108,-35.5 122,-35.5 122,-22.5 108,-22.5\"/>\n",
       "<text text-anchor=\"start\" x=\"108.89\" y=\"-25.7\" font-family=\"Helvetica,sans-Serif\" font-size=\"11.00\" fill=\"#444443\"> &#160;&#160;&#160;</text>\n",
       "<polygon fill=\"#d9e6f5\" stroke=\"transparent\" points=\"2,-20.5 2,-22.5 122,-22.5 122,-20.5 2,-20.5\"/>\n",
       "<polygon fill=\"#d9e6f5\" stroke=\"transparent\" points=\"2,-7.5 2,-20.5 108,-20.5 108,-7.5 2,-7.5\"/>\n",
       "<polyline fill=\"none\" stroke=\"#444443\" points=\"108,-7.5 108,-20.5 \"/>\n",
       "<text text-anchor=\"start\" x=\"84.38\" y=\"-10.7\" font-family=\"Helvetica,sans-Serif\" font-size=\"11.00\" fill=\"#444443\">is_it </text>\n",
       "<polygon fill=\"#d9e6f5\" stroke=\"transparent\" points=\"108,-7.5 108,-20.5 122,-20.5 122,-7.5 108,-7.5\"/>\n",
       "<text text-anchor=\"start\" x=\"108.89\" y=\"-10.7\" font-family=\"Helvetica,sans-Serif\" font-size=\"11.00\" fill=\"#444443\"> &#160;&#160;&#160;</text>\n",
       "</g>\n",
       "<!-- node4467647968&#45;&gt;node4469286976 -->\n",
       "<!-- node4469330624 -->\n",
       "<g id=\"node3\" class=\"node\">\n",
       "<title>node4469330624</title>\n",
       "<polygon fill=\"none\" stroke=\"black\" stroke-width=\"0.5\" points=\"201,-50.5 132,-50.5 132,-20.5 201,-20.5 201,-50.5\"/>\n",
       "<polygon fill=\"#fefecd\" stroke=\"transparent\" points=\"133.5,-38.5 133.5,-49.5 173.5,-49.5 173.5,-38.5 133.5,-38.5\"/>\n",
       "<polyline fill=\"none\" stroke=\"black\" points=\"133.5,-38.5 173.5,-38.5 173.5,-49.5 \"/>\n",
       "<text text-anchor=\"start\" x=\"151\" y=\"-41.3\" font-family=\"Helvetica,sans-Serif\" font-size=\"9.00\" fill=\"#444443\">0</text>\n",
       "<polygon fill=\"#fefecd\" stroke=\"transparent\" points=\"173.5,-38.5 173.5,-49.5 200.5,-49.5 200.5,-38.5 173.5,-38.5\"/>\n",
       "<polyline fill=\"none\" stroke=\"black\" points=\"173.5,-38.5 200.5,-38.5 \"/>\n",
       "<text text-anchor=\"start\" x=\"184.5\" y=\"-41.3\" font-family=\"Helvetica,sans-Serif\" font-size=\"9.00\" fill=\"#444443\">1</text>\n",
       "<polygon fill=\"#fefecd\" stroke=\"transparent\" points=\"133.5,-21.5 133.5,-38.5 173.5,-38.5 173.5,-21.5 133.5,-21.5\"/>\n",
       "<polyline fill=\"none\" stroke=\"black\" points=\"173.5,-21.5 173.5,-38.5 \"/>\n",
       "<text text-anchor=\"start\" x=\"136.32\" y=\"-26.7\" font-family=\"Helvetica,sans-Serif\" font-size=\"11.00\" fill=\"#444443\">&#39;Yorkie&#39;</text>\n",
       "<polygon fill=\"#fefecd\" stroke=\"transparent\" points=\"173.5,-21.5 173.5,-38.5 200.5,-38.5 200.5,-21.5 173.5,-21.5\"/>\n",
       "<text text-anchor=\"start\" x=\"175.11\" y=\"-26.7\" font-family=\"Helvetica,sans-Serif\" font-size=\"11.00\" fill=\"#444443\">&#39;Pug&#39;</text>\n",
       "</g>\n",
       "<!-- node4469286976&#45;&gt;node4469330624 -->\n",
       "<g id=\"edge2\" class=\"edge\">\n",
       "<title>node4469286976:c&#45;&gt;node4469330624</title>\n",
       "<path fill=\"none\" stroke=\"#444443\" stroke-width=\"0.5\" d=\"M119.63,-29.01C121.73,-29.31 124.6,-29.72 127.9,-30.18\"/>\n",
       "<ellipse fill=\"#444443\" stroke=\"#444443\" stroke-width=\"0.5\" cx=\"117.58\" cy=\"-28.72\" rx=\"1.6\" ry=\"1.6\"/>\n",
       "<polygon fill=\"#444443\" stroke=\"#444443\" stroke-width=\"0.5\" points=\"127.78,-31.58 131.93,-30.75 128.17,-28.81 127.78,-31.58\"/>\n",
       "</g>\n",
       "<!-- node4405160824 -->\n",
       "<g id=\"node4\" class=\"node\">\n",
       "<title>node4405160824</title>\n",
       "<text text-anchor=\"start\" x=\"156.5\" y=\"-3.8\" font-family=\"Times,serif\" font-style=\"italic\" font-size=\"9.00\" fill=\"#444443\">False</text>\n",
       "</g>\n",
       "<!-- node4469286976&#45;&gt;node4405160824 -->\n",
       "<g id=\"edge3\" class=\"edge\">\n",
       "<title>node4469286976:c&#45;&gt;node4405160824</title>\n",
       "<path fill=\"none\" stroke=\"#444443\" stroke-width=\"0.5\" d=\"M119.44,-13.01C125.66,-12.13 139.12,-10.23 149.89,-8.71\"/>\n",
       "<ellipse fill=\"#444443\" stroke=\"#444443\" stroke-width=\"0.5\" cx=\"117.58\" cy=\"-13.28\" rx=\"1.6\" ry=\"1.6\"/>\n",
       "<polygon fill=\"#444443\" stroke=\"#444443\" stroke-width=\"0.5\" points=\"150.25,-10.07 154.02,-8.12 149.86,-7.3 150.25,-10.07\"/>\n",
       "</g>\n",
       "</g>\n",
       "</svg>\n"
      ],
      "text/plain": [
       "<graphviz.files.Source at 0x108b38280>"
      ]
     },
     "metadata": {},
     "output_type": "display_data"
    },
    {
     "ename": "NameError",
     "evalue": "name 'great_dog_breeds_2' is not defined",
     "output_type": "error",
     "traceback": [
      "\u001b[0;31m---------------------------------------------------------------------------\u001b[0m",
      "\u001b[0;31mNameError\u001b[0m                                 Traceback (most recent call last)",
      "\u001b[0;32m<ipython-input-18-b69da3ff7aeb>\u001b[0m in \u001b[0;36m<module>\u001b[0;34m\u001b[0m\n\u001b[1;32m      9\u001b[0m \u001b[0;34m\u001b[0m\u001b[0m\n\u001b[1;32m     10\u001b[0m \u001b[0mis_great_breed_2\u001b[0m\u001b[0;34m(\u001b[0m\u001b[0;34m\"Beagle\"\u001b[0m\u001b[0;34m)\u001b[0m\u001b[0;34m\u001b[0m\u001b[0;34m\u001b[0m\u001b[0m\n\u001b[0;32m---> 11\u001b[0;31m \u001b[0mprint\u001b[0m\u001b[0;34m(\u001b[0m\u001b[0mgreat_dog_breeds_2\u001b[0m\u001b[0;34m)\u001b[0m\u001b[0;34m\u001b[0m\u001b[0;34m\u001b[0m\u001b[0m\n\u001b[0m",
      "\u001b[0;31mNameError\u001b[0m: name 'great_dog_breeds_2' is not defined"
     ]
    }
   ],
   "source": [
    "def is_great_breed_2(name):\n",
    "    great_dog_breeds_2 = [\"Yorkie\", \"Pug\"]\n",
    "    is_it = name in great_dog_breeds\n",
    "    if is_it is True:\n",
    "        print(\"yes it is\")\n",
    "    else:\n",
    "        print(\"no it is not\")\n",
    "    display(callsviz(varnames=('is_great_breed_2', 'great_dog_breeds_2', 'is_it')))\n",
    "\n",
    "is_great_breed_2(\"Beagle\")\n",
    "print(great_dog_breeds_2)"
   ]
  },
  {
   "cell_type": "markdown",
   "metadata": {},
   "source": [
    "When python throws an error that ``great_dog_breeds_2`` is not defined, what it means is that look I've checked the *globals scope* and there was no variable in there with that name.\n",
    "\n",
    "Now compare it to the code below, here the line ``great_dog_breeds_3 = is_great_breed_3(\"Beagle\")`` is not within a function, so the operation creates the ``great_dog_breeds_3`` within the global scope, and is the reason why ``print(great_dog_breeds_3)`` can succeed, the lookup of name ``great_dog_breeds_3`` now succeeds within the global scope (which is just another dictionary). Let's look at the global scope before the ``is_great_breed_3`` finishes and after:"
   ]
  },
  {
   "cell_type": "code",
   "execution_count": 19,
   "metadata": {},
   "outputs": [
    {
     "name": "stdout",
     "output_type": "stream",
     "text": [
      "no it is not\n"
     ]
    },
    {
     "data": {
      "image/svg+xml": [
       "<?xml version=\"1.0\" encoding=\"UTF-8\" standalone=\"no\"?>\n",
       "<!DOCTYPE svg PUBLIC \"-//W3C//DTD SVG 1.1//EN\"\n",
       " \"http://www.w3.org/Graphics/SVG/1.1/DTD/svg11.dtd\">\n",
       "<!-- Generated by graphviz version 2.43.0 (0)\n",
       " -->\n",
       "<!-- Title: G Pages: 1 -->\n",
       "<svg width=\"208pt\" height=\"97pt\"\n",
       " viewBox=\"0.00 0.00 208.00 96.50\" xmlns=\"http://www.w3.org/2000/svg\" xmlns:xlink=\"http://www.w3.org/1999/xlink\">\n",
       "<g id=\"graph0\" class=\"graph\" transform=\"scale(1 1) rotate(0) translate(4 92.5)\">\n",
       "<title>G</title>\n",
       "<polygon fill=\"white\" stroke=\"transparent\" points=\"-4,4 -4,-92.5 204,-92.5 204,4 -4,4\"/>\n",
       "<!-- node4468319872 -->\n",
       "<g id=\"node1\" class=\"node\">\n",
       "<title>node4468319872</title>\n",
       "<polygon fill=\"#d9e6f5\" stroke=\"#444443\" stroke-width=\"0.5\" points=\"80.5,-88.5 42.5,-88.5 42.5,-60.5 80.5,-60.5 80.5,-88.5\"/>\n",
       "<polygon fill=\"#d9e6f5\" stroke=\"transparent\" points=\"44.5,-73.5 44.5,-86.5 78.5,-86.5 78.5,-73.5 44.5,-73.5\"/>\n",
       "<polyline fill=\"none\" stroke=\"#444443\" points=\"44.5,-73.5 78.5,-73.5 \"/>\n",
       "<text text-anchor=\"start\" x=\"45.3\" y=\"-76.7\" font-family=\"Times,serif\" font-style=\"italic\" font-size=\"11.00\" fill=\"#444443\">globals</text>\n",
       "<polygon fill=\"#d9e6f5\" stroke=\"transparent\" points=\"44.5,-71.5 44.5,-73.5 78.5,-73.5 78.5,-71.5 44.5,-71.5\"/>\n",
       "<text text-anchor=\"start\" x=\"49.75\" y=\"-64.3\" font-family=\"Helvetica,sans-Serif\" font-size=\"9.00\" fill=\"#444443\"> ... </text>\n",
       "</g>\n",
       "<!-- node4469274432 -->\n",
       "<g id=\"node2\" class=\"node\">\n",
       "<title>node4469274432</title>\n",
       "<polygon fill=\"#d9e6f5\" stroke=\"#444443\" stroke-width=\"0.5\" points=\"123,-53 0,-53 0,-6 123,-6 123,-53\"/>\n",
       "<polygon fill=\"#d9e6f5\" stroke=\"transparent\" points=\"2.5,-37.5 2.5,-50.5 121.5,-50.5 121.5,-37.5 2.5,-37.5\"/>\n",
       "<polyline fill=\"none\" stroke=\"#444443\" points=\"2.5,-37.5 121.5,-37.5 \"/>\n",
       "<text text-anchor=\"start\" x=\"23.6\" y=\"-40.7\" font-family=\"Times,serif\" font-style=\"italic\" font-size=\"11.00\" fill=\"#444443\">is_great_breed_3</text>\n",
       "<polygon fill=\"#d9e6f5\" stroke=\"transparent\" points=\"2.5,-35.5 2.5,-37.5 121.5,-37.5 121.5,-35.5 2.5,-35.5\"/>\n",
       "<polygon fill=\"#d9e6f5\" stroke=\"transparent\" points=\"2.5,-22.5 2.5,-35.5 107.5,-35.5 107.5,-22.5 2.5,-22.5\"/>\n",
       "<polyline fill=\"none\" stroke=\"#444443\" points=\"107.5,-22.5 107.5,-35.5 \"/>\n",
       "<text text-anchor=\"start\" x=\"3.02\" y=\"-25.7\" font-family=\"Helvetica,sans-Serif\" font-size=\"11.00\" fill=\"#444443\">great_dog_breeds_x </text>\n",
       "<polygon fill=\"#d9e6f5\" stroke=\"transparent\" points=\"107.5,-22.5 107.5,-35.5 121.5,-35.5 121.5,-22.5 107.5,-22.5\"/>\n",
       "<text text-anchor=\"start\" x=\"108.39\" y=\"-25.7\" font-family=\"Helvetica,sans-Serif\" font-size=\"11.00\" fill=\"#444443\"> &#160;&#160;&#160;</text>\n",
       "<polygon fill=\"#d9e6f5\" stroke=\"transparent\" points=\"2.5,-20.5 2.5,-22.5 121.5,-22.5 121.5,-20.5 2.5,-20.5\"/>\n",
       "<polygon fill=\"#d9e6f5\" stroke=\"transparent\" points=\"2.5,-7.5 2.5,-20.5 107.5,-20.5 107.5,-7.5 2.5,-7.5\"/>\n",
       "<polyline fill=\"none\" stroke=\"#444443\" points=\"107.5,-7.5 107.5,-20.5 \"/>\n",
       "<text text-anchor=\"start\" x=\"83.88\" y=\"-10.7\" font-family=\"Helvetica,sans-Serif\" font-size=\"11.00\" fill=\"#444443\">is_it </text>\n",
       "<polygon fill=\"#d9e6f5\" stroke=\"transparent\" points=\"107.5,-7.5 107.5,-20.5 121.5,-20.5 121.5,-7.5 107.5,-7.5\"/>\n",
       "<text text-anchor=\"start\" x=\"108.39\" y=\"-10.7\" font-family=\"Helvetica,sans-Serif\" font-size=\"11.00\" fill=\"#444443\"> &#160;&#160;&#160;</text>\n",
       "</g>\n",
       "<!-- node4468319872&#45;&gt;node4469274432 -->\n",
       "<!-- node4466951872 -->\n",
       "<g id=\"node3\" class=\"node\">\n",
       "<title>node4466951872</title>\n",
       "<polygon fill=\"none\" stroke=\"black\" stroke-width=\"0.5\" points=\"200,-50.5 131,-50.5 131,-20.5 200,-20.5 200,-50.5\"/>\n",
       "<polygon fill=\"#fefecd\" stroke=\"transparent\" points=\"132.5,-38.5 132.5,-49.5 172.5,-49.5 172.5,-38.5 132.5,-38.5\"/>\n",
       "<polyline fill=\"none\" stroke=\"black\" points=\"132.5,-38.5 172.5,-38.5 172.5,-49.5 \"/>\n",
       "<text text-anchor=\"start\" x=\"150\" y=\"-41.3\" font-family=\"Helvetica,sans-Serif\" font-size=\"9.00\" fill=\"#444443\">0</text>\n",
       "<polygon fill=\"#fefecd\" stroke=\"transparent\" points=\"172.5,-38.5 172.5,-49.5 199.5,-49.5 199.5,-38.5 172.5,-38.5\"/>\n",
       "<polyline fill=\"none\" stroke=\"black\" points=\"172.5,-38.5 199.5,-38.5 \"/>\n",
       "<text text-anchor=\"start\" x=\"183.5\" y=\"-41.3\" font-family=\"Helvetica,sans-Serif\" font-size=\"9.00\" fill=\"#444443\">1</text>\n",
       "<polygon fill=\"#fefecd\" stroke=\"transparent\" points=\"132.5,-21.5 132.5,-38.5 172.5,-38.5 172.5,-21.5 132.5,-21.5\"/>\n",
       "<polyline fill=\"none\" stroke=\"black\" points=\"172.5,-21.5 172.5,-38.5 \"/>\n",
       "<text text-anchor=\"start\" x=\"135.32\" y=\"-26.7\" font-family=\"Helvetica,sans-Serif\" font-size=\"11.00\" fill=\"#444443\">&#39;Yorkie&#39;</text>\n",
       "<polygon fill=\"#fefecd\" stroke=\"transparent\" points=\"172.5,-21.5 172.5,-38.5 199.5,-38.5 199.5,-21.5 172.5,-21.5\"/>\n",
       "<text text-anchor=\"start\" x=\"174.11\" y=\"-26.7\" font-family=\"Helvetica,sans-Serif\" font-size=\"11.00\" fill=\"#444443\">&#39;Pug&#39;</text>\n",
       "</g>\n",
       "<!-- node4469274432&#45;&gt;node4466951872 -->\n",
       "<g id=\"edge2\" class=\"edge\">\n",
       "<title>node4469274432:c&#45;&gt;node4466951872</title>\n",
       "<path fill=\"none\" stroke=\"#444443\" stroke-width=\"0.5\" d=\"M118.96,-28.99C120.87,-29.27 123.46,-29.64 126.45,-30.06\"/>\n",
       "<ellipse fill=\"#444443\" stroke=\"#444443\" stroke-width=\"0.5\" cx=\"117.08\" cy=\"-28.73\" rx=\"1.6\" ry=\"1.6\"/>\n",
       "<polygon fill=\"#444443\" stroke=\"#444443\" stroke-width=\"0.5\" points=\"126.58,-31.5 130.74,-30.68 126.97,-28.72 126.58,-31.5\"/>\n",
       "</g>\n",
       "<!-- node4405160824 -->\n",
       "<g id=\"node4\" class=\"node\">\n",
       "<title>node4405160824</title>\n",
       "<text text-anchor=\"start\" x=\"155.5\" y=\"-3.8\" font-family=\"Times,serif\" font-style=\"italic\" font-size=\"9.00\" fill=\"#444443\">False</text>\n",
       "</g>\n",
       "<!-- node4469274432&#45;&gt;node4405160824 -->\n",
       "<g id=\"edge3\" class=\"edge\">\n",
       "<title>node4469274432:c&#45;&gt;node4405160824</title>\n",
       "<path fill=\"none\" stroke=\"#444443\" stroke-width=\"0.5\" d=\"M118.91,-13.01C125.06,-12.13 138.39,-10.23 149.05,-8.71\"/>\n",
       "<ellipse fill=\"#444443\" stroke=\"#444443\" stroke-width=\"0.5\" cx=\"117.08\" cy=\"-13.27\" rx=\"1.6\" ry=\"1.6\"/>\n",
       "<polygon fill=\"#444443\" stroke=\"#444443\" stroke-width=\"0.5\" points=\"149.37,-10.08 153.14,-8.12 148.98,-7.3 149.37,-10.08\"/>\n",
       "</g>\n",
       "</g>\n",
       "</svg>\n"
      ],
      "text/plain": [
       "<graphviz.files.Source at 0x10a566880>"
      ]
     },
     "metadata": {},
     "output_type": "display_data"
    },
    {
     "name": "stdout",
     "output_type": "stream",
     "text": [
      "['Yorkie', 'Pug']\n"
     ]
    },
    {
     "data": {
      "image/svg+xml": [
       "<?xml version=\"1.0\" encoding=\"UTF-8\" standalone=\"no\"?>\n",
       "<!DOCTYPE svg PUBLIC \"-//W3C//DTD SVG 1.1//EN\"\n",
       " \"http://www.w3.org/Graphics/SVG/1.1/DTD/svg11.dtd\">\n",
       "<!-- Generated by graphviz version 2.43.0 (0)\n",
       " -->\n",
       "<!-- Title: G Pages: 1 -->\n",
       "<svg width=\"209pt\" height=\"47pt\"\n",
       " viewBox=\"0.00 0.00 209.00 47.00\" xmlns=\"http://www.w3.org/2000/svg\" xmlns:xlink=\"http://www.w3.org/1999/xlink\">\n",
       "<g id=\"graph0\" class=\"graph\" transform=\"scale(1 1) rotate(0) translate(4 43)\">\n",
       "<title>G</title>\n",
       "<polygon fill=\"white\" stroke=\"transparent\" points=\"-4,4 -4,-43 205,-43 205,4 -4,4\"/>\n",
       "<!-- node4467653952 -->\n",
       "<g id=\"node1\" class=\"node\">\n",
       "<title>node4467653952</title>\n",
       "<polygon fill=\"#d9e6f5\" stroke=\"#444443\" stroke-width=\"0.5\" points=\"124,-39 0,-39 0,-7 124,-7 124,-39\"/>\n",
       "<polygon fill=\"#d9e6f5\" stroke=\"transparent\" points=\"2,-24 2,-37 122,-37 122,-24 2,-24\"/>\n",
       "<polyline fill=\"none\" stroke=\"#444443\" points=\"2,-24 122,-24 \"/>\n",
       "<text text-anchor=\"start\" x=\"45.8\" y=\"-27.2\" font-family=\"Times,serif\" font-style=\"italic\" font-size=\"11.00\" fill=\"#444443\">globals</text>\n",
       "<polygon fill=\"#d9e6f5\" stroke=\"transparent\" points=\"2,-22 2,-24 122,-24 122,-22 2,-22\"/>\n",
       "<polygon fill=\"#d9e6f5\" stroke=\"transparent\" points=\"2,-9 2,-22 108,-22 108,-9 2,-9\"/>\n",
       "<polyline fill=\"none\" stroke=\"#444443\" points=\"108,-9 108,-22 \"/>\n",
       "<text text-anchor=\"start\" x=\"2.71\" y=\"-12.2\" font-family=\"Helvetica,sans-Serif\" font-size=\"11.00\" fill=\"#444443\">great_dog_breeds_3 </text>\n",
       "<polygon fill=\"#d9e6f5\" stroke=\"transparent\" points=\"108,-9 108,-22 122,-22 122,-9 108,-9\"/>\n",
       "<text text-anchor=\"start\" x=\"108.89\" y=\"-12.2\" font-family=\"Helvetica,sans-Serif\" font-size=\"11.00\" fill=\"#444443\"> &#160;&#160;&#160;</text>\n",
       "</g>\n",
       "<!-- node4466951872 -->\n",
       "<g id=\"node2\" class=\"node\">\n",
       "<title>node4466951872</title>\n",
       "<polygon fill=\"none\" stroke=\"black\" stroke-width=\"0.5\" points=\"201,-30 132,-30 132,0 201,0 201,-30\"/>\n",
       "<polygon fill=\"#fefecd\" stroke=\"transparent\" points=\"133.5,-18 133.5,-29 173.5,-29 173.5,-18 133.5,-18\"/>\n",
       "<polyline fill=\"none\" stroke=\"black\" points=\"133.5,-18 173.5,-18 173.5,-29 \"/>\n",
       "<text text-anchor=\"start\" x=\"151\" y=\"-20.8\" font-family=\"Helvetica,sans-Serif\" font-size=\"9.00\" fill=\"#444443\">0</text>\n",
       "<polygon fill=\"#fefecd\" stroke=\"transparent\" points=\"173.5,-18 173.5,-29 200.5,-29 200.5,-18 173.5,-18\"/>\n",
       "<polyline fill=\"none\" stroke=\"black\" points=\"173.5,-18 200.5,-18 \"/>\n",
       "<text text-anchor=\"start\" x=\"184.5\" y=\"-20.8\" font-family=\"Helvetica,sans-Serif\" font-size=\"9.00\" fill=\"#444443\">1</text>\n",
       "<polygon fill=\"#fefecd\" stroke=\"transparent\" points=\"133.5,-1 133.5,-18 173.5,-18 173.5,-1 133.5,-1\"/>\n",
       "<polyline fill=\"none\" stroke=\"black\" points=\"173.5,-1 173.5,-18 \"/>\n",
       "<text text-anchor=\"start\" x=\"136.32\" y=\"-6.2\" font-family=\"Helvetica,sans-Serif\" font-size=\"11.00\" fill=\"#444443\">&#39;Yorkie&#39;</text>\n",
       "<polygon fill=\"#fefecd\" stroke=\"transparent\" points=\"173.5,-1 173.5,-18 200.5,-18 200.5,-1 173.5,-1\"/>\n",
       "<text text-anchor=\"start\" x=\"175.11\" y=\"-6.2\" font-family=\"Helvetica,sans-Serif\" font-size=\"11.00\" fill=\"#444443\">&#39;Pug&#39;</text>\n",
       "</g>\n",
       "<!-- node4467653952&#45;&gt;node4466951872 -->\n",
       "<g id=\"edge1\" class=\"edge\">\n",
       "<title>node4467653952:c&#45;&gt;node4466951872</title>\n",
       "<path fill=\"none\" stroke=\"#444443\" stroke-width=\"0.5\" d=\"M119.63,-15C121.73,-15 124.6,-15 127.9,-15\"/>\n",
       "<ellipse fill=\"#444443\" stroke=\"#444443\" stroke-width=\"0.5\" cx=\"117.6\" cy=\"-15\" rx=\"1.6\" ry=\"1.6\"/>\n",
       "<polygon fill=\"#444443\" stroke=\"#444443\" stroke-width=\"0.5\" points=\"127.93,-16.4 131.93,-15 127.93,-13.6 127.93,-16.4\"/>\n",
       "</g>\n",
       "</g>\n",
       "</svg>\n"
      ],
      "text/plain": [
       "<graphviz.files.Source at 0x10a5669a0>"
      ]
     },
     "metadata": {},
     "output_type": "display_data"
    }
   ],
   "source": [
    "def is_great_breed_3(name):\n",
    "    great_dog_breeds_x = [\"Yorkie\", \"Pug\"]\n",
    "    is_it = name in great_dog_breeds_x\n",
    "    if is_it is True:\n",
    "        print(\"yes it is\")\n",
    "    else:\n",
    "        print(\"no it is not\")\n",
    "    display(callsviz(varnames=('great_dog_breeds_3', 'great_dog_breeds_x', 'is_it')))\n",
    "    return great_dog_breeds_x\n",
    "\n",
    "\n",
    "\n",
    "great_dog_breeds_3 = is_great_breed_3(\"Beagle\")\n",
    "print(great_dog_breeds_3)\n",
    "display(callsviz(varnames=('great_dog_breeds_3', 'great_dog_breeds_x', 'is_it')))\n"
   ]
  },
  {
   "cell_type": "markdown",
   "metadata": {},
   "source": [
    "As you can see before the ``is_great_breed_3`` finishes, the globals namespace does not contain any variables. However, once it finishes we do define ``great_dog_breeds_3``.\n",
    "\n",
    "The global scope persist through the entire life of the application. So setting something within the global scope keeps it around until you exit that program, however function scopes are cleaned up as soon as functions finish running. This is why we need to return values from them if we want to keep using them. Upon return by using the `` x = call()`` notation we define the variable within the callers scope:\n",
    "- if we've been within a function, now will be accessible within the function,\n",
    "- if we've been in the global scope (not within a function), now will be accessible within the global scope.\n",
    "\n",
    "Every run of a function creates a new scope for that function (as such we cannot see/refer to variables defined through an earlier run of the function):"
   ]
  },
  {
   "cell_type": "code",
   "execution_count": null,
   "metadata": {},
   "outputs": [],
   "source": []
  },
  {
   "cell_type": "code",
   "execution_count": 20,
   "metadata": {},
   "outputs": [
    {
     "data": {
      "image/svg+xml": [
       "<?xml version=\"1.0\" encoding=\"UTF-8\" standalone=\"no\"?>\n",
       "<!DOCTYPE svg PUBLIC \"-//W3C//DTD SVG 1.1//EN\"\n",
       " \"http://www.w3.org/Graphics/SVG/1.1/DTD/svg11.dtd\">\n",
       "<!-- Generated by graphviz version 2.43.0 (0)\n",
       " -->\n",
       "<!-- Title: G Pages: 1 -->\n",
       "<svg width=\"129pt\" height=\"204pt\"\n",
       " viewBox=\"0.00 0.00 129.00 203.50\" xmlns=\"http://www.w3.org/2000/svg\" xmlns:xlink=\"http://www.w3.org/1999/xlink\">\n",
       "<g id=\"graph0\" class=\"graph\" transform=\"scale(1 1) rotate(0) translate(4 199.5)\">\n",
       "<title>G</title>\n",
       "<polygon fill=\"white\" stroke=\"transparent\" points=\"-4,4 -4,-199.5 125,-199.5 125,4 -4,4\"/>\n",
       "<!-- node4468320272 -->\n",
       "<g id=\"node1\" class=\"node\">\n",
       "<title>node4468320272</title>\n",
       "<polygon fill=\"#d9e6f5\" stroke=\"#444443\" stroke-width=\"0.5\" points=\"73,-195.5 0,-195.5 0,-163.5 73,-163.5 73,-195.5\"/>\n",
       "<polygon fill=\"#d9e6f5\" stroke=\"transparent\" points=\"2.5,-180.5 2.5,-193.5 71.5,-193.5 71.5,-180.5 2.5,-180.5\"/>\n",
       "<polyline fill=\"none\" stroke=\"#444443\" points=\"2.5,-180.5 71.5,-180.5 \"/>\n",
       "<text text-anchor=\"start\" x=\"20.8\" y=\"-183.7\" font-family=\"Times,serif\" font-style=\"italic\" font-size=\"11.00\" fill=\"#444443\">globals</text>\n",
       "<polygon fill=\"#d9e6f5\" stroke=\"transparent\" points=\"2.5,-178.5 2.5,-180.5 71.5,-180.5 71.5,-178.5 2.5,-178.5\"/>\n",
       "<polygon fill=\"#d9e6f5\" stroke=\"transparent\" points=\"2.5,-165.5 2.5,-178.5 57.5,-178.5 57.5,-165.5 2.5,-165.5\"/>\n",
       "<polyline fill=\"none\" stroke=\"#444443\" points=\"57.5,-165.5 57.5,-178.5 \"/>\n",
       "<text text-anchor=\"start\" x=\"3.4\" y=\"-168.7\" font-family=\"Helvetica,sans-Serif\" font-size=\"11.00\" fill=\"#444443\">my_global </text>\n",
       "<polygon fill=\"#d9e6f5\" stroke=\"transparent\" points=\"57.5,-165.5 57.5,-178.5 71.5,-178.5 71.5,-165.5 57.5,-165.5\"/>\n",
       "<text text-anchor=\"start\" x=\"58.39\" y=\"-168.7\" font-family=\"Helvetica,sans-Serif\" font-size=\"11.00\" fill=\"#444443\"> &#160;&#160;&#160;</text>\n",
       "</g>\n",
       "<!-- node4467787952 -->\n",
       "<g id=\"node2\" class=\"node\">\n",
       "<title>node4467787952</title>\n",
       "<polygon fill=\"#d9e6f5\" stroke=\"#444443\" stroke-width=\"0.5\" points=\"62.5,-156 10.5,-156 10.5,-109 62.5,-109 62.5,-156\"/>\n",
       "<polygon fill=\"#d9e6f5\" stroke=\"transparent\" points=\"12.5,-140.5 12.5,-153.5 60.5,-153.5 60.5,-140.5 12.5,-140.5\"/>\n",
       "<polyline fill=\"none\" stroke=\"#444443\" points=\"12.5,-140.5 60.5,-140.5 \"/>\n",
       "<text text-anchor=\"start\" x=\"34.06\" y=\"-143.7\" font-family=\"Times,serif\" font-style=\"italic\" font-size=\"11.00\" fill=\"#444443\">x</text>\n",
       "<polygon fill=\"#d9e6f5\" stroke=\"transparent\" points=\"12.5,-138.5 12.5,-140.5 60.5,-140.5 60.5,-138.5 12.5,-138.5\"/>\n",
       "<polygon fill=\"#d9e6f5\" stroke=\"transparent\" points=\"12.5,-125.5 12.5,-138.5 46.5,-138.5 46.5,-125.5 12.5,-125.5\"/>\n",
       "<polyline fill=\"none\" stroke=\"#444443\" points=\"46.5,-125.5 46.5,-138.5 \"/>\n",
       "<text text-anchor=\"start\" x=\"18.31\" y=\"-128.7\" font-family=\"Times,serif\" font-style=\"italic\" font-size=\"11.00\" fill=\"#444443\">count </text>\n",
       "<polygon fill=\"#d9e6f5\" stroke=\"transparent\" points=\"46.5,-125.5 46.5,-138.5 60.5,-138.5 60.5,-125.5 46.5,-125.5\"/>\n",
       "<text text-anchor=\"start\" x=\"47.5\" y=\"-128.7\" font-family=\"Helvetica,sans-Serif\" font-size=\"11.00\" fill=\"#444443\"> 2</text>\n",
       "<polygon fill=\"#d9e6f5\" stroke=\"transparent\" points=\"12.5,-123.5 12.5,-125.5 60.5,-125.5 60.5,-123.5 12.5,-123.5\"/>\n",
       "<polygon fill=\"#d9e6f5\" stroke=\"transparent\" points=\"12.5,-110.5 12.5,-123.5 46.5,-123.5 46.5,-110.5 12.5,-110.5\"/>\n",
       "<polyline fill=\"none\" stroke=\"#444443\" points=\"46.5,-110.5 46.5,-123.5 \"/>\n",
       "<text text-anchor=\"start\" x=\"13.3\" y=\"-113.7\" font-family=\"Helvetica,sans-Serif\" font-size=\"11.00\" fill=\"#444443\">magic </text>\n",
       "<polygon fill=\"#d9e6f5\" stroke=\"transparent\" points=\"46.5,-110.5 46.5,-123.5 60.5,-123.5 60.5,-110.5 46.5,-110.5\"/>\n",
       "<text text-anchor=\"start\" x=\"47.39\" y=\"-113.7\" font-family=\"Helvetica,sans-Serif\" font-size=\"11.00\" fill=\"#444443\"> &#160;&#160;&#160;</text>\n",
       "</g>\n",
       "<!-- node4468320272&#45;&gt;node4467787952 -->\n",
       "<!-- node4469357248 -->\n",
       "<g id=\"node5\" class=\"node\">\n",
       "<title>node4469357248</title>\n",
       "<polygon fill=\"none\" stroke=\"black\" stroke-width=\"0.5\" points=\"113,-186.5 89,-186.5 89,-156.5 113,-156.5 113,-186.5\"/>\n",
       "<polygon fill=\"#fefecd\" stroke=\"transparent\" points=\"90,-174.5 90,-185.5 102,-185.5 102,-174.5 90,-174.5\"/>\n",
       "<polyline fill=\"none\" stroke=\"black\" points=\"90,-174.5 102,-174.5 102,-185.5 \"/>\n",
       "<text text-anchor=\"start\" x=\"93.5\" y=\"-177.3\" font-family=\"Helvetica,sans-Serif\" font-size=\"9.00\" fill=\"#444443\">0</text>\n",
       "<polygon fill=\"#fefecd\" stroke=\"transparent\" points=\"102,-174.5 102,-185.5 112,-185.5 112,-174.5 102,-174.5\"/>\n",
       "<polyline fill=\"none\" stroke=\"black\" points=\"102,-174.5 112,-174.5 \"/>\n",
       "<text text-anchor=\"start\" x=\"104.5\" y=\"-177.3\" font-family=\"Helvetica,sans-Serif\" font-size=\"9.00\" fill=\"#444443\">1</text>\n",
       "<polygon fill=\"#fefecd\" stroke=\"transparent\" points=\"90,-157.5 90,-174.5 102,-174.5 102,-157.5 90,-157.5\"/>\n",
       "<polyline fill=\"none\" stroke=\"black\" points=\"102,-157.5 102,-174.5 \"/>\n",
       "<text text-anchor=\"start\" x=\"92.94\" y=\"-162.7\" font-family=\"Helvetica,sans-Serif\" font-size=\"11.00\" fill=\"#444443\">1</text>\n",
       "<polygon fill=\"#fefecd\" stroke=\"transparent\" points=\"102,-157.5 102,-174.5 112,-174.5 112,-157.5 102,-157.5\"/>\n",
       "<text text-anchor=\"start\" x=\"103.94\" y=\"-162.7\" font-family=\"Helvetica,sans-Serif\" font-size=\"11.00\" fill=\"#444443\">2</text>\n",
       "</g>\n",
       "<!-- node4468320272&#45;&gt;node4469357248 -->\n",
       "<g id=\"edge4\" class=\"edge\">\n",
       "<title>node4468320272:c&#45;&gt;node4469357248</title>\n",
       "<path fill=\"none\" stroke=\"#444443\" stroke-width=\"0.5\" d=\"M68.86,-171.5C72.56,-171.5 78.78,-171.5 84.69,-171.5\"/>\n",
       "<ellipse fill=\"#444443\" stroke=\"#444443\" stroke-width=\"0.5\" cx=\"67.1\" cy=\"-171.5\" rx=\"1.6\" ry=\"1.6\"/>\n",
       "<polygon fill=\"#444443\" stroke=\"#444443\" stroke-width=\"0.5\" points=\"84.7,-172.9 88.7,-171.5 84.7,-170.1 84.7,-172.9\"/>\n",
       "</g>\n",
       "<!-- node4467788816 -->\n",
       "<g id=\"node3\" class=\"node\">\n",
       "<title>node4467788816</title>\n",
       "<polygon fill=\"#d9e6f5\" stroke=\"#444443\" stroke-width=\"0.5\" points=\"62.5,-102 10.5,-102 10.5,-55 62.5,-55 62.5,-102\"/>\n",
       "<polygon fill=\"#d9e6f5\" stroke=\"transparent\" points=\"12.5,-86.5 12.5,-99.5 60.5,-99.5 60.5,-86.5 12.5,-86.5\"/>\n",
       "<polyline fill=\"none\" stroke=\"#444443\" points=\"12.5,-86.5 60.5,-86.5 \"/>\n",
       "<text text-anchor=\"start\" x=\"34.06\" y=\"-89.7\" font-family=\"Times,serif\" font-style=\"italic\" font-size=\"11.00\" fill=\"#444443\">x</text>\n",
       "<polygon fill=\"#d9e6f5\" stroke=\"transparent\" points=\"12.5,-84.5 12.5,-86.5 60.5,-86.5 60.5,-84.5 12.5,-84.5\"/>\n",
       "<polygon fill=\"#d9e6f5\" stroke=\"transparent\" points=\"12.5,-71.5 12.5,-84.5 46.5,-84.5 46.5,-71.5 12.5,-71.5\"/>\n",
       "<polyline fill=\"none\" stroke=\"#444443\" points=\"46.5,-71.5 46.5,-84.5 \"/>\n",
       "<text text-anchor=\"start\" x=\"18.31\" y=\"-74.7\" font-family=\"Times,serif\" font-style=\"italic\" font-size=\"11.00\" fill=\"#444443\">count </text>\n",
       "<polygon fill=\"#d9e6f5\" stroke=\"transparent\" points=\"46.5,-71.5 46.5,-84.5 60.5,-84.5 60.5,-71.5 46.5,-71.5\"/>\n",
       "<text text-anchor=\"start\" x=\"47.5\" y=\"-74.7\" font-family=\"Helvetica,sans-Serif\" font-size=\"11.00\" fill=\"#444443\"> 1</text>\n",
       "<polygon fill=\"#d9e6f5\" stroke=\"transparent\" points=\"12.5,-69.5 12.5,-71.5 60.5,-71.5 60.5,-69.5 12.5,-69.5\"/>\n",
       "<polygon fill=\"#d9e6f5\" stroke=\"transparent\" points=\"12.5,-56.5 12.5,-69.5 46.5,-69.5 46.5,-56.5 12.5,-56.5\"/>\n",
       "<polyline fill=\"none\" stroke=\"#444443\" points=\"46.5,-56.5 46.5,-69.5 \"/>\n",
       "<text text-anchor=\"start\" x=\"13.3\" y=\"-59.7\" font-family=\"Helvetica,sans-Serif\" font-size=\"11.00\" fill=\"#444443\">magic </text>\n",
       "<polygon fill=\"#d9e6f5\" stroke=\"transparent\" points=\"46.5,-56.5 46.5,-69.5 60.5,-69.5 60.5,-56.5 46.5,-56.5\"/>\n",
       "<text text-anchor=\"start\" x=\"47.39\" y=\"-59.7\" font-family=\"Helvetica,sans-Serif\" font-size=\"11.00\" fill=\"#444443\"> &#160;&#160;&#160;</text>\n",
       "</g>\n",
       "<!-- node4467787952&#45;&gt;node4467788816 -->\n",
       "<!-- node4469357056 -->\n",
       "<g id=\"node6\" class=\"node\">\n",
       "<title>node4469357056</title>\n",
       "<polygon fill=\"#fefecd\" stroke=\"#444443\" stroke-width=\"0.5\" points=\"121,-125 81,-125 81,-108 121,-108 121,-125\"/>\n",
       "<polygon fill=\"#fefecd\" stroke=\"transparent\" points=\"83,-109.5 83,-122.5 99,-122.5 99,-109.5 83,-109.5\"/>\n",
       "<text text-anchor=\"start\" x=\"82.78\" y=\"-112.7\" font-family=\"Helvetica,sans-Serif\" font-size=\"11.00\" fill=\"#444443\">&#39;at&#39; </text>\n",
       "<text text-anchor=\"start\" x=\"99\" y=\"-112.9\" font-family=\"Helvetica,sans-Serif\" font-size=\"9.00\" fill=\"#444443\">→</text>\n",
       "<polygon fill=\"#fefecd\" stroke=\"transparent\" points=\"108,-109.5 108,-122.5 119,-122.5 119,-109.5 108,-109.5\"/>\n",
       "<text text-anchor=\"start\" x=\"108.91\" y=\"-112.7\" font-family=\"Helvetica,sans-Serif\" font-size=\"11.00\" fill=\"#444443\"> 2</text>\n",
       "</g>\n",
       "<!-- node4467787952&#45;&gt;node4469357056 -->\n",
       "<g id=\"edge5\" class=\"edge\">\n",
       "<title>node4467787952:c&#45;&gt;node4469357056</title>\n",
       "<path fill=\"none\" stroke=\"#444443\" stroke-width=\"0.5\" d=\"M57.8,-116.5C61.91,-116.5 69.34,-116.5 76.82,-116.5\"/>\n",
       "<ellipse fill=\"#444443\" stroke=\"#444443\" stroke-width=\"0.5\" cx=\"56.1\" cy=\"-116.5\" rx=\"1.6\" ry=\"1.6\"/>\n",
       "<polygon fill=\"#444443\" stroke=\"#444443\" stroke-width=\"0.5\" points=\"76.97,-117.9 80.97,-116.5 76.97,-115.1 76.97,-117.9\"/>\n",
       "</g>\n",
       "<!-- node4467789248 -->\n",
       "<g id=\"node4\" class=\"node\">\n",
       "<title>node4467789248</title>\n",
       "<polygon fill=\"#d9e6f5\" stroke=\"#444443\" stroke-width=\"0.5\" points=\"62.5,-48 10.5,-48 10.5,-1 62.5,-1 62.5,-48\"/>\n",
       "<polygon fill=\"#d9e6f5\" stroke=\"transparent\" points=\"12.5,-32.5 12.5,-45.5 60.5,-45.5 60.5,-32.5 12.5,-32.5\"/>\n",
       "<polyline fill=\"none\" stroke=\"#444443\" points=\"12.5,-32.5 60.5,-32.5 \"/>\n",
       "<text text-anchor=\"start\" x=\"34.06\" y=\"-35.7\" font-family=\"Times,serif\" font-style=\"italic\" font-size=\"11.00\" fill=\"#444443\">x</text>\n",
       "<polygon fill=\"#d9e6f5\" stroke=\"transparent\" points=\"12.5,-30.5 12.5,-32.5 60.5,-32.5 60.5,-30.5 12.5,-30.5\"/>\n",
       "<polygon fill=\"#d9e6f5\" stroke=\"transparent\" points=\"12.5,-17.5 12.5,-30.5 46.5,-30.5 46.5,-17.5 12.5,-17.5\"/>\n",
       "<polyline fill=\"none\" stroke=\"#444443\" points=\"46.5,-17.5 46.5,-30.5 \"/>\n",
       "<text text-anchor=\"start\" x=\"18.31\" y=\"-20.7\" font-family=\"Times,serif\" font-style=\"italic\" font-size=\"11.00\" fill=\"#444443\">count </text>\n",
       "<polygon fill=\"#d9e6f5\" stroke=\"transparent\" points=\"46.5,-17.5 46.5,-30.5 60.5,-30.5 60.5,-17.5 46.5,-17.5\"/>\n",
       "<text text-anchor=\"start\" x=\"47.5\" y=\"-20.7\" font-family=\"Helvetica,sans-Serif\" font-size=\"11.00\" fill=\"#444443\"> 0</text>\n",
       "<polygon fill=\"#d9e6f5\" stroke=\"transparent\" points=\"12.5,-15.5 12.5,-17.5 60.5,-17.5 60.5,-15.5 12.5,-15.5\"/>\n",
       "<polygon fill=\"#d9e6f5\" stroke=\"transparent\" points=\"12.5,-2.5 12.5,-15.5 46.5,-15.5 46.5,-2.5 12.5,-2.5\"/>\n",
       "<polyline fill=\"none\" stroke=\"#444443\" points=\"46.5,-2.5 46.5,-15.5 \"/>\n",
       "<text text-anchor=\"start\" x=\"13.3\" y=\"-5.7\" font-family=\"Helvetica,sans-Serif\" font-size=\"11.00\" fill=\"#444443\">magic </text>\n",
       "<polygon fill=\"#d9e6f5\" stroke=\"transparent\" points=\"46.5,-2.5 46.5,-15.5 60.5,-15.5 60.5,-2.5 46.5,-2.5\"/>\n",
       "<text text-anchor=\"start\" x=\"47.39\" y=\"-5.7\" font-family=\"Helvetica,sans-Serif\" font-size=\"11.00\" fill=\"#444443\"> &#160;&#160;&#160;</text>\n",
       "</g>\n",
       "<!-- node4467788816&#45;&gt;node4467789248 -->\n",
       "<!-- node4469357376 -->\n",
       "<g id=\"node7\" class=\"node\">\n",
       "<title>node4469357376</title>\n",
       "<polygon fill=\"#fefecd\" stroke=\"#444443\" stroke-width=\"0.5\" points=\"121,-71 81,-71 81,-54 121,-54 121,-71\"/>\n",
       "<polygon fill=\"#fefecd\" stroke=\"transparent\" points=\"83,-55.5 83,-68.5 99,-68.5 99,-55.5 83,-55.5\"/>\n",
       "<text text-anchor=\"start\" x=\"82.78\" y=\"-58.7\" font-family=\"Helvetica,sans-Serif\" font-size=\"11.00\" fill=\"#444443\">&#39;at&#39; </text>\n",
       "<text text-anchor=\"start\" x=\"99\" y=\"-58.9\" font-family=\"Helvetica,sans-Serif\" font-size=\"9.00\" fill=\"#444443\">→</text>\n",
       "<polygon fill=\"#fefecd\" stroke=\"transparent\" points=\"108,-55.5 108,-68.5 119,-68.5 119,-55.5 108,-55.5\"/>\n",
       "<text text-anchor=\"start\" x=\"108.91\" y=\"-58.7\" font-family=\"Helvetica,sans-Serif\" font-size=\"11.00\" fill=\"#444443\"> 1</text>\n",
       "</g>\n",
       "<!-- node4467788816&#45;&gt;node4469357376 -->\n",
       "<g id=\"edge6\" class=\"edge\">\n",
       "<title>node4467788816:c&#45;&gt;node4469357376</title>\n",
       "<path fill=\"none\" stroke=\"#444443\" stroke-width=\"0.5\" d=\"M57.8,-62.5C61.91,-62.5 69.34,-62.5 76.82,-62.5\"/>\n",
       "<ellipse fill=\"#444443\" stroke=\"#444443\" stroke-width=\"0.5\" cx=\"56.1\" cy=\"-62.5\" rx=\"1.6\" ry=\"1.6\"/>\n",
       "<polygon fill=\"#444443\" stroke=\"#444443\" stroke-width=\"0.5\" points=\"76.97,-63.9 80.97,-62.5 76.97,-61.1 76.97,-63.9\"/>\n",
       "</g>\n",
       "<!-- node4469357632 -->\n",
       "<g id=\"node8\" class=\"node\">\n",
       "<title>node4469357632</title>\n",
       "<polygon fill=\"#fefecd\" stroke=\"#444443\" stroke-width=\"0.5\" points=\"121,-17 81,-17 81,0 121,0 121,-17\"/>\n",
       "<polygon fill=\"#fefecd\" stroke=\"transparent\" points=\"83,-1.5 83,-14.5 99,-14.5 99,-1.5 83,-1.5\"/>\n",
       "<text text-anchor=\"start\" x=\"82.78\" y=\"-4.7\" font-family=\"Helvetica,sans-Serif\" font-size=\"11.00\" fill=\"#444443\">&#39;at&#39; </text>\n",
       "<text text-anchor=\"start\" x=\"99\" y=\"-4.9\" font-family=\"Helvetica,sans-Serif\" font-size=\"9.00\" fill=\"#444443\">→</text>\n",
       "<polygon fill=\"#fefecd\" stroke=\"transparent\" points=\"108,-1.5 108,-14.5 119,-14.5 119,-1.5 108,-1.5\"/>\n",
       "<text text-anchor=\"start\" x=\"108.91\" y=\"-4.7\" font-family=\"Helvetica,sans-Serif\" font-size=\"11.00\" fill=\"#444443\"> 0</text>\n",
       "</g>\n",
       "<!-- node4467789248&#45;&gt;node4469357632 -->\n",
       "<g id=\"edge7\" class=\"edge\">\n",
       "<title>node4467789248:c&#45;&gt;node4469357632</title>\n",
       "<path fill=\"none\" stroke=\"#444443\" stroke-width=\"0.5\" d=\"M57.8,-8.5C61.91,-8.5 69.34,-8.5 76.82,-8.5\"/>\n",
       "<ellipse fill=\"#444443\" stroke=\"#444443\" stroke-width=\"0.5\" cx=\"56.1\" cy=\"-8.5\" rx=\"1.6\" ry=\"1.6\"/>\n",
       "<polygon fill=\"#444443\" stroke=\"#444443\" stroke-width=\"0.5\" points=\"76.97,-9.9 80.97,-8.5 76.97,-7.1 76.97,-9.9\"/>\n",
       "</g>\n",
       "</g>\n",
       "</svg>\n"
      ],
      "text/plain": [
       "<graphviz.files.Source at 0x10a566bb0>"
      ]
     },
     "metadata": {},
     "output_type": "display_data"
    }
   ],
   "source": [
    "def x(count):\n",
    "    count -= 1\n",
    "    magic = {'at': count}\n",
    "    if count > 0:\n",
    "        x(count)\n",
    "    else:\n",
    "        display(callsviz(varnames=('count', 'magic', 'my_global')))\n",
    "my_global = [1, 2]\n",
    "x(3)"
   ]
  },
  {
   "cell_type": "markdown",
   "metadata": {},
   "source": [
    "In the above example we call x three times, and as such we have three different scopes for ``x``, with its own count and magic variables, all of them having different values. This also demonstrates that all function parameters/arguments are automatically added to the function scope (see all the ``count`` entries, we never defined these, yet they are still there; these are rendered in italic to indicate this).\n",
    "\n",
    "Every function has it's own scope (if we have function a and b, they cannot see each other variables):"
   ]
  },
  {
   "cell_type": "code",
   "execution_count": 21,
   "metadata": {},
   "outputs": [
    {
     "data": {
      "image/svg+xml": [
       "<?xml version=\"1.0\" encoding=\"UTF-8\" standalone=\"no\"?>\n",
       "<!DOCTYPE svg PUBLIC \"-//W3C//DTD SVG 1.1//EN\"\n",
       " \"http://www.w3.org/Graphics/SVG/1.1/DTD/svg11.dtd\">\n",
       "<!-- Generated by graphviz version 2.43.0 (0)\n",
       " -->\n",
       "<!-- Title: G Pages: 1 -->\n",
       "<svg width=\"152pt\" height=\"114pt\"\n",
       " viewBox=\"0.00 0.00 152.00 114.00\" xmlns=\"http://www.w3.org/2000/svg\" xmlns:xlink=\"http://www.w3.org/1999/xlink\">\n",
       "<g id=\"graph0\" class=\"graph\" transform=\"scale(1 1) rotate(0) translate(4 110)\">\n",
       "<title>G</title>\n",
       "<polygon fill=\"white\" stroke=\"transparent\" points=\"-4,4 -4,-110 148,-110 148,4 -4,4\"/>\n",
       "<!-- node140325361870896 -->\n",
       "<g id=\"node1\" class=\"node\">\n",
       "<title>node140325361870896</title>\n",
       "<polygon fill=\"#d9e6f5\" stroke=\"#444443\" stroke-width=\"0.5\" points=\"109,-106 0,-106 0,-74 109,-74 109,-106\"/>\n",
       "<polygon fill=\"#d9e6f5\" stroke=\"transparent\" points=\"2.5,-91 2.5,-104 107.5,-104 107.5,-91 2.5,-91\"/>\n",
       "<polyline fill=\"none\" stroke=\"#444443\" points=\"2.5,-91 107.5,-91 \"/>\n",
       "<text text-anchor=\"start\" x=\"38.8\" y=\"-94.2\" font-family=\"Times,serif\" font-style=\"italic\" font-size=\"11.00\" fill=\"#444443\">globals</text>\n",
       "<polygon fill=\"#d9e6f5\" stroke=\"transparent\" points=\"2.5,-89 2.5,-91 107.5,-91 107.5,-89 2.5,-89\"/>\n",
       "<polygon fill=\"#d9e6f5\" stroke=\"transparent\" points=\"2.5,-76 2.5,-89 81.5,-89 81.5,-76 2.5,-76\"/>\n",
       "<polyline fill=\"none\" stroke=\"#444443\" points=\"81.5,-76 81.5,-89 \"/>\n",
       "<text text-anchor=\"start\" x=\"3.47\" y=\"-79.2\" font-family=\"Helvetica,sans-Serif\" font-size=\"11.00\" fill=\"#444443\">global_variable </text>\n",
       "<polygon fill=\"#d9e6f5\" stroke=\"transparent\" points=\"81.5,-76 81.5,-89 107.5,-89 107.5,-76 81.5,-76\"/>\n",
       "<text text-anchor=\"start\" x=\"82.31\" y=\"-79.2\" font-family=\"Helvetica,sans-Serif\" font-size=\"11.00\" fill=\"#444443\"> &#39;yes&#39;</text>\n",
       "</g>\n",
       "<!-- node4469276224 -->\n",
       "<g id=\"node2\" class=\"node\">\n",
       "<title>node4469276224</title>\n",
       "<polygon fill=\"#d9e6f5\" stroke=\"#444443\" stroke-width=\"0.5\" points=\"80.5,-67 28.5,-67 28.5,-35 80.5,-35 80.5,-67\"/>\n",
       "<polygon fill=\"#d9e6f5\" stroke=\"transparent\" points=\"30.5,-52 30.5,-65 78.5,-65 78.5,-52 30.5,-52\"/>\n",
       "<polyline fill=\"none\" stroke=\"#444443\" points=\"30.5,-52 78.5,-52 \"/>\n",
       "<text text-anchor=\"start\" x=\"51.75\" y=\"-55.2\" font-family=\"Times,serif\" font-style=\"italic\" font-size=\"11.00\" fill=\"#444443\">a</text>\n",
       "<polygon fill=\"#d9e6f5\" stroke=\"transparent\" points=\"30.5,-50 30.5,-52 78.5,-52 78.5,-50 30.5,-50\"/>\n",
       "<polygon fill=\"#d9e6f5\" stroke=\"transparent\" points=\"30.5,-37 30.5,-50 64.5,-50 64.5,-37 30.5,-37\"/>\n",
       "<polyline fill=\"none\" stroke=\"#444443\" points=\"64.5,-37 64.5,-50 \"/>\n",
       "<text text-anchor=\"start\" x=\"31.3\" y=\"-40.2\" font-family=\"Helvetica,sans-Serif\" font-size=\"11.00\" fill=\"#444443\">magic </text>\n",
       "<polygon fill=\"#d9e6f5\" stroke=\"transparent\" points=\"64.5,-37 64.5,-50 78.5,-50 78.5,-37 64.5,-37\"/>\n",
       "<text text-anchor=\"start\" x=\"65.39\" y=\"-40.2\" font-family=\"Helvetica,sans-Serif\" font-size=\"11.00\" fill=\"#444443\"> &#160;&#160;&#160;</text>\n",
       "</g>\n",
       "<!-- node140325361870896&#45;&gt;node4469276224 -->\n",
       "<!-- node4469295168 -->\n",
       "<g id=\"node3\" class=\"node\">\n",
       "<title>node4469295168</title>\n",
       "<polygon fill=\"#d9e6f5\" stroke=\"#444443\" stroke-width=\"0.5\" points=\"62.5,-28 46.5,-28 46.5,0 62.5,0 62.5,-28\"/>\n",
       "<polygon fill=\"#d9e6f5\" stroke=\"transparent\" points=\"48.5,-13 48.5,-26 60.5,-26 60.5,-13 48.5,-13\"/>\n",
       "<polyline fill=\"none\" stroke=\"#444443\" points=\"48.5,-13 60.5,-13 \"/>\n",
       "<text text-anchor=\"start\" x=\"51.75\" y=\"-16.2\" font-family=\"Times,serif\" font-style=\"italic\" font-size=\"11.00\" fill=\"#444443\">b</text>\n",
       "<polygon fill=\"#d9e6f5\" stroke=\"transparent\" points=\"48.5,-11 48.5,-13 60.5,-13 60.5,-11 48.5,-11\"/>\n",
       "<text text-anchor=\"start\" x=\"48.25\" y=\"-3.8\" font-family=\"Helvetica,sans-Serif\" font-size=\"9.00\" fill=\"#444443\"> ... </text>\n",
       "</g>\n",
       "<!-- node4469276224&#45;&gt;node4469295168 -->\n",
       "<!-- node4469376000 -->\n",
       "<g id=\"node4\" class=\"node\">\n",
       "<title>node4469376000</title>\n",
       "<polygon fill=\"none\" stroke=\"black\" stroke-width=\"0.5\" points=\"144,-57 117,-57 117,-29 144,-29 144,-57\"/>\n",
       "<polygon fill=\"#fefecd\" stroke=\"transparent\" points=\"118.5,-45 118.5,-56 143.5,-56 143.5,-45 118.5,-45\"/>\n",
       "<polyline fill=\"none\" stroke=\"black\" points=\"118.5,-45 143.5,-45 \"/>\n",
       "<text text-anchor=\"start\" x=\"128.5\" y=\"-47.8\" font-family=\"Helvetica,sans-Serif\" font-size=\"9.00\" fill=\"#444443\">0</text>\n",
       "<polygon fill=\"#fefecd\" stroke=\"transparent\" points=\"118.5,-30 118.5,-45 143.5,-45 143.5,-30 118.5,-30\"/>\n",
       "<text text-anchor=\"start\" x=\"120.34\" y=\"-34.2\" font-family=\"Helvetica,sans-Serif\" font-size=\"11.00\" fill=\"#444443\">&#39;yes&#39;</text>\n",
       "</g>\n",
       "<!-- node4469276224&#45;&gt;node4469376000 -->\n",
       "<g id=\"edge3\" class=\"edge\">\n",
       "<title>node4469276224:c&#45;&gt;node4469376000</title>\n",
       "<path fill=\"none\" stroke=\"#444443\" stroke-width=\"0.5\" d=\"M76.05,-43C83.23,-43 99.85,-43 112.67,-43\"/>\n",
       "<ellipse fill=\"#444443\" stroke=\"#444443\" stroke-width=\"0.5\" cx=\"74.1\" cy=\"-43\" rx=\"1.6\" ry=\"1.6\"/>\n",
       "<polygon fill=\"#444443\" stroke=\"#444443\" stroke-width=\"0.5\" points=\"112.85,-44.4 116.85,-43 112.85,-41.6 112.85,-44.4\"/>\n",
       "</g>\n",
       "</g>\n",
       "</svg>\n"
      ],
      "text/plain": [
       "<graphviz.files.Source at 0x10a484ac0>"
      ]
     },
     "metadata": {},
     "output_type": "display_data"
    },
    {
     "data": {
      "image/svg+xml": [
       "<?xml version=\"1.0\" encoding=\"UTF-8\" standalone=\"no\"?>\n",
       "<!DOCTYPE svg PUBLIC \"-//W3C//DTD SVG 1.1//EN\"\n",
       " \"http://www.w3.org/Graphics/SVG/1.1/DTD/svg11.dtd\">\n",
       "<!-- Generated by graphviz version 2.43.0 (0)\n",
       " -->\n",
       "<!-- Title: G Pages: 1 -->\n",
       "<svg width=\"202pt\" height=\"119pt\"\n",
       " viewBox=\"0.00 0.00 202.00 118.50\" xmlns=\"http://www.w3.org/2000/svg\" xmlns:xlink=\"http://www.w3.org/1999/xlink\">\n",
       "<g id=\"graph0\" class=\"graph\" transform=\"scale(1 1) rotate(0) translate(4 114.5)\">\n",
       "<title>G</title>\n",
       "<polygon fill=\"white\" stroke=\"transparent\" points=\"-4,4 -4,-114.5 198,-114.5 198,4 -4,4\"/>\n",
       "<!-- node140325361870896 -->\n",
       "<g id=\"node1\" class=\"node\">\n",
       "<title>node140325361870896</title>\n",
       "<polygon fill=\"#d9e6f5\" stroke=\"#444443\" stroke-width=\"0.5\" points=\"109,-110.5 0,-110.5 0,-78.5 109,-78.5 109,-110.5\"/>\n",
       "<polygon fill=\"#d9e6f5\" stroke=\"transparent\" points=\"2.5,-95.5 2.5,-108.5 107.5,-108.5 107.5,-95.5 2.5,-95.5\"/>\n",
       "<polyline fill=\"none\" stroke=\"#444443\" points=\"2.5,-95.5 107.5,-95.5 \"/>\n",
       "<text text-anchor=\"start\" x=\"38.8\" y=\"-98.7\" font-family=\"Times,serif\" font-style=\"italic\" font-size=\"11.00\" fill=\"#444443\">globals</text>\n",
       "<polygon fill=\"#d9e6f5\" stroke=\"transparent\" points=\"2.5,-93.5 2.5,-95.5 107.5,-95.5 107.5,-93.5 2.5,-93.5\"/>\n",
       "<polygon fill=\"#d9e6f5\" stroke=\"transparent\" points=\"2.5,-80.5 2.5,-93.5 81.5,-93.5 81.5,-80.5 2.5,-80.5\"/>\n",
       "<polyline fill=\"none\" stroke=\"#444443\" points=\"81.5,-80.5 81.5,-93.5 \"/>\n",
       "<text text-anchor=\"start\" x=\"3.47\" y=\"-83.7\" font-family=\"Helvetica,sans-Serif\" font-size=\"11.00\" fill=\"#444443\">global_variable </text>\n",
       "<polygon fill=\"#d9e6f5\" stroke=\"transparent\" points=\"81.5,-80.5 81.5,-93.5 107.5,-93.5 107.5,-80.5 81.5,-80.5\"/>\n",
       "<text text-anchor=\"start\" x=\"82.31\" y=\"-83.7\" font-family=\"Helvetica,sans-Serif\" font-size=\"11.00\" fill=\"#444443\"> &#39;yes&#39;</text>\n",
       "</g>\n",
       "<!-- node4469276224 -->\n",
       "<g id=\"node2\" class=\"node\">\n",
       "<title>node4469276224</title>\n",
       "<polygon fill=\"#d9e6f5\" stroke=\"#444443\" stroke-width=\"0.5\" points=\"80.5,-71.5 28.5,-71.5 28.5,-39.5 80.5,-39.5 80.5,-71.5\"/>\n",
       "<polygon fill=\"#d9e6f5\" stroke=\"transparent\" points=\"30.5,-56.5 30.5,-69.5 78.5,-69.5 78.5,-56.5 30.5,-56.5\"/>\n",
       "<polyline fill=\"none\" stroke=\"#444443\" points=\"30.5,-56.5 78.5,-56.5 \"/>\n",
       "<text text-anchor=\"start\" x=\"51.75\" y=\"-59.7\" font-family=\"Times,serif\" font-style=\"italic\" font-size=\"11.00\" fill=\"#444443\">a</text>\n",
       "<polygon fill=\"#d9e6f5\" stroke=\"transparent\" points=\"30.5,-54.5 30.5,-56.5 78.5,-56.5 78.5,-54.5 30.5,-54.5\"/>\n",
       "<polygon fill=\"#d9e6f5\" stroke=\"transparent\" points=\"30.5,-41.5 30.5,-54.5 64.5,-54.5 64.5,-41.5 30.5,-41.5\"/>\n",
       "<polyline fill=\"none\" stroke=\"#444443\" points=\"64.5,-41.5 64.5,-54.5 \"/>\n",
       "<text text-anchor=\"start\" x=\"31.3\" y=\"-44.7\" font-family=\"Helvetica,sans-Serif\" font-size=\"11.00\" fill=\"#444443\">magic </text>\n",
       "<polygon fill=\"#d9e6f5\" stroke=\"transparent\" points=\"64.5,-41.5 64.5,-54.5 78.5,-54.5 78.5,-41.5 64.5,-41.5\"/>\n",
       "<text text-anchor=\"start\" x=\"65.39\" y=\"-44.7\" font-family=\"Helvetica,sans-Serif\" font-size=\"11.00\" fill=\"#444443\"> &#160;&#160;&#160;</text>\n",
       "</g>\n",
       "<!-- node140325361870896&#45;&gt;node4469276224 -->\n",
       "<!-- node4469295168 -->\n",
       "<g id=\"node3\" class=\"node\">\n",
       "<title>node4469295168</title>\n",
       "<polygon fill=\"#d9e6f5\" stroke=\"#444443\" stroke-width=\"0.5\" points=\"75,-32.5 34,-32.5 34,-0.5 75,-0.5 75,-32.5\"/>\n",
       "<polygon fill=\"#d9e6f5\" stroke=\"transparent\" points=\"36.5,-17.5 36.5,-30.5 73.5,-30.5 73.5,-17.5 36.5,-17.5\"/>\n",
       "<polyline fill=\"none\" stroke=\"#444443\" points=\"36.5,-17.5 73.5,-17.5 \"/>\n",
       "<text text-anchor=\"start\" x=\"52.25\" y=\"-20.7\" font-family=\"Times,serif\" font-style=\"italic\" font-size=\"11.00\" fill=\"#444443\">b</text>\n",
       "<polygon fill=\"#d9e6f5\" stroke=\"transparent\" points=\"36.5,-15.5 36.5,-17.5 73.5,-17.5 73.5,-15.5 36.5,-15.5\"/>\n",
       "<polygon fill=\"#d9e6f5\" stroke=\"transparent\" points=\"36.5,-2.5 36.5,-15.5 59.5,-15.5 59.5,-2.5 36.5,-2.5\"/>\n",
       "<polyline fill=\"none\" stroke=\"#444443\" points=\"59.5,-2.5 59.5,-15.5 \"/>\n",
       "<text text-anchor=\"start\" x=\"37.3\" y=\"-5.7\" font-family=\"Helvetica,sans-Serif\" font-size=\"11.00\" fill=\"#444443\">dog </text>\n",
       "<polygon fill=\"#d9e6f5\" stroke=\"transparent\" points=\"59.5,-2.5 59.5,-15.5 73.5,-15.5 73.5,-2.5 59.5,-2.5\"/>\n",
       "<text text-anchor=\"start\" x=\"60.39\" y=\"-5.7\" font-family=\"Helvetica,sans-Serif\" font-size=\"11.00\" fill=\"#444443\"> &#160;&#160;&#160;</text>\n",
       "</g>\n",
       "<!-- node4469276224&#45;&gt;node4469295168 -->\n",
       "<!-- node4469376000 -->\n",
       "<g id=\"node4\" class=\"node\">\n",
       "<title>node4469376000</title>\n",
       "<polygon fill=\"none\" stroke=\"black\" stroke-width=\"0.5\" points=\"169,-61.5 142,-61.5 142,-33.5 169,-33.5 169,-61.5\"/>\n",
       "<polygon fill=\"#fefecd\" stroke=\"transparent\" points=\"143.5,-49.5 143.5,-60.5 168.5,-60.5 168.5,-49.5 143.5,-49.5\"/>\n",
       "<polyline fill=\"none\" stroke=\"black\" points=\"143.5,-49.5 168.5,-49.5 \"/>\n",
       "<text text-anchor=\"start\" x=\"153.5\" y=\"-52.3\" font-family=\"Helvetica,sans-Serif\" font-size=\"9.00\" fill=\"#444443\">0</text>\n",
       "<polygon fill=\"#fefecd\" stroke=\"transparent\" points=\"143.5,-34.5 143.5,-49.5 168.5,-49.5 168.5,-34.5 143.5,-34.5\"/>\n",
       "<text text-anchor=\"start\" x=\"145.34\" y=\"-38.7\" font-family=\"Helvetica,sans-Serif\" font-size=\"11.00\" fill=\"#444443\">&#39;yes&#39;</text>\n",
       "</g>\n",
       "<!-- node4469276224&#45;&gt;node4469376000 -->\n",
       "<g id=\"edge3\" class=\"edge\">\n",
       "<title>node4469276224:c&#45;&gt;node4469376000</title>\n",
       "<path fill=\"none\" stroke=\"#444443\" stroke-width=\"0.5\" d=\"M75.92,-47.5C86.28,-47.5 117.81,-47.5 137.65,-47.5\"/>\n",
       "<ellipse fill=\"#444443\" stroke=\"#444443\" stroke-width=\"0.5\" cx=\"74.1\" cy=\"-47.5\" rx=\"1.6\" ry=\"1.6\"/>\n",
       "<polygon fill=\"#444443\" stroke=\"#444443\" stroke-width=\"0.5\" points=\"137.69,-48.9 141.69,-47.5 137.69,-46.1 137.69,-48.9\"/>\n",
       "</g>\n",
       "<!-- node4467547840 -->\n",
       "<g id=\"node5\" class=\"node\">\n",
       "<title>node4467547840</title>\n",
       "<polygon fill=\"#fefecd\" stroke=\"#444443\" stroke-width=\"0.5\" points=\"194,-17 117,-17 117,0 194,0 194,-17\"/>\n",
       "<polygon fill=\"#fefecd\" stroke=\"transparent\" points=\"119.5,-1.5 119.5,-14.5 149.5,-14.5 149.5,-1.5 119.5,-1.5\"/>\n",
       "<text text-anchor=\"start\" x=\"119.26\" y=\"-4.7\" font-family=\"Helvetica,sans-Serif\" font-size=\"11.00\" fill=\"#444443\">&#39;Silky&#39; </text>\n",
       "<text text-anchor=\"start\" x=\"149.5\" y=\"-4.9\" font-family=\"Helvetica,sans-Serif\" font-size=\"9.00\" fill=\"#444443\">→</text>\n",
       "<polygon fill=\"#fefecd\" stroke=\"transparent\" points=\"158.5,-1.5 158.5,-14.5 192.5,-14.5 192.5,-1.5 158.5,-1.5\"/>\n",
       "<text text-anchor=\"start\" x=\"159.34\" y=\"-4.7\" font-family=\"Helvetica,sans-Serif\" font-size=\"11.00\" fill=\"#444443\"> &#39;great&#39;</text>\n",
       "</g>\n",
       "<!-- node4469295168&#45;&gt;node4467547840 -->\n",
       "<g id=\"edge4\" class=\"edge\">\n",
       "<title>node4469295168:c&#45;&gt;node4467547840</title>\n",
       "<path fill=\"none\" stroke=\"#444443\" stroke-width=\"0.5\" d=\"M70.91,-8.5C78.08,-8.5 95.46,-8.5 112.52,-8.5\"/>\n",
       "<ellipse fill=\"#444443\" stroke=\"#444443\" stroke-width=\"0.5\" cx=\"69.1\" cy=\"-8.5\" rx=\"1.6\" ry=\"1.6\"/>\n",
       "<polygon fill=\"#444443\" stroke=\"#444443\" stroke-width=\"0.5\" points=\"112.85,-9.9 116.85,-8.5 112.85,-7.1 112.85,-9.9\"/>\n",
       "</g>\n",
       "</g>\n",
       "</svg>\n"
      ],
      "text/plain": [
       "<graphviz.files.Source at 0x10a484ac0>"
      ]
     },
     "metadata": {},
     "output_type": "display_data"
    }
   ],
   "source": [
    "def a():\n",
    "    magic = ['yes']\n",
    "    b()\n",
    "\n",
    "def b():\n",
    "    display(callsviz(varnames=('magic', 'dog', 'global_variable')))\n",
    "    dog = {'Silky': 'great'}\n",
    "    display(callsviz(varnames=('magic', 'dog', 'global_variable')))\n",
    "\n",
    "    \n",
    "global_variable = 'yes'\n",
    "a()"
   ]
  },
  {
   "cell_type": "markdown",
   "metadata": {},
   "source": [
    "Note in the above that the scope dictionary is populated as we go, hence why in the above b scope first is empty, but once ``dog = {'Silky': 'great'}`` runs now you see the ``dog`` variable.\n",
    "\n",
    "\n",
    "**Advanced** \n",
    "\n",
    "If there's a function within a function, the child function can refer to variables within its parents scope. In this case the child accesses the parent variable directly, as shown by the arrow referencing to the same value for both ``a``:"
   ]
  },
  {
   "cell_type": "code",
   "execution_count": 22,
   "metadata": {},
   "outputs": [
    {
     "name": "stdout",
     "output_type": "stream",
     "text": [
      "[1, 2]\n",
      "{'child': 'yes'}\n",
      "{'global': 'yeah'}\n"
     ]
    },
    {
     "data": {
      "image/svg+xml": [
       "<?xml version=\"1.0\" encoding=\"UTF-8\" standalone=\"no\"?>\n",
       "<!DOCTYPE svg PUBLIC \"-//W3C//DTD SVG 1.1//EN\"\n",
       " \"http://www.w3.org/Graphics/SVG/1.1/DTD/svg11.dtd\">\n",
       "<!-- Generated by graphviz version 2.43.0 (0)\n",
       " -->\n",
       "<!-- Title: G Pages: 1 -->\n",
       "<svg width=\"171pt\" height=\"134pt\"\n",
       " viewBox=\"0.00 0.00 171.00 133.50\" xmlns=\"http://www.w3.org/2000/svg\" xmlns:xlink=\"http://www.w3.org/1999/xlink\">\n",
       "<g id=\"graph0\" class=\"graph\" transform=\"scale(1 1) rotate(0) translate(4 129.5)\">\n",
       "<title>G</title>\n",
       "<polygon fill=\"white\" stroke=\"transparent\" points=\"-4,4 -4,-129.5 167,-129.5 167,4 -4,4\"/>\n",
       "<!-- node4467517120 -->\n",
       "<g id=\"node1\" class=\"node\">\n",
       "<title>node4467517120</title>\n",
       "<polygon fill=\"#d9e6f5\" stroke=\"#444443\" stroke-width=\"0.5\" points=\"73,-125.5 0,-125.5 0,-93.5 73,-93.5 73,-125.5\"/>\n",
       "<polygon fill=\"#d9e6f5\" stroke=\"transparent\" points=\"2.5,-110.5 2.5,-123.5 71.5,-123.5 71.5,-110.5 2.5,-110.5\"/>\n",
       "<polyline fill=\"none\" stroke=\"#444443\" points=\"2.5,-110.5 71.5,-110.5 \"/>\n",
       "<text text-anchor=\"start\" x=\"20.8\" y=\"-113.7\" font-family=\"Times,serif\" font-style=\"italic\" font-size=\"11.00\" fill=\"#444443\">globals</text>\n",
       "<polygon fill=\"#d9e6f5\" stroke=\"transparent\" points=\"2.5,-108.5 2.5,-110.5 71.5,-110.5 71.5,-108.5 2.5,-108.5\"/>\n",
       "<polygon fill=\"#d9e6f5\" stroke=\"transparent\" points=\"2.5,-95.5 2.5,-108.5 57.5,-108.5 57.5,-95.5 2.5,-95.5\"/>\n",
       "<polyline fill=\"none\" stroke=\"#444443\" points=\"57.5,-95.5 57.5,-108.5 \"/>\n",
       "<text text-anchor=\"start\" x=\"3.4\" y=\"-98.7\" font-family=\"Helvetica,sans-Serif\" font-size=\"11.00\" fill=\"#444443\">my_global </text>\n",
       "<polygon fill=\"#d9e6f5\" stroke=\"transparent\" points=\"57.5,-95.5 57.5,-108.5 71.5,-108.5 71.5,-95.5 57.5,-95.5\"/>\n",
       "<text text-anchor=\"start\" x=\"58.39\" y=\"-98.7\" font-family=\"Helvetica,sans-Serif\" font-size=\"11.00\" fill=\"#444443\"> &#160;&#160;&#160;</text>\n",
       "</g>\n",
       "<!-- node4467717600 -->\n",
       "<g id=\"node2\" class=\"node\">\n",
       "<title>node4467717600</title>\n",
       "<polygon fill=\"#d9e6f5\" stroke=\"#444443\" stroke-width=\"0.5\" points=\"53.5,-86.5 19.5,-86.5 19.5,-54.5 53.5,-54.5 53.5,-86.5\"/>\n",
       "<polygon fill=\"#d9e6f5\" stroke=\"transparent\" points=\"21.5,-71.5 21.5,-84.5 51.5,-84.5 51.5,-71.5 21.5,-71.5\"/>\n",
       "<polyline fill=\"none\" stroke=\"#444443\" points=\"21.5,-71.5 51.5,-71.5 \"/>\n",
       "<text text-anchor=\"start\" x=\"22.34\" y=\"-74.7\" font-family=\"Times,serif\" font-style=\"italic\" font-size=\"11.00\" fill=\"#444443\">parent</text>\n",
       "<polygon fill=\"#d9e6f5\" stroke=\"transparent\" points=\"21.5,-69.5 21.5,-71.5 51.5,-71.5 51.5,-69.5 21.5,-69.5\"/>\n",
       "<polygon fill=\"#d9e6f5\" stroke=\"transparent\" points=\"21.5,-56.5 21.5,-69.5 34.5,-69.5 34.5,-56.5 21.5,-56.5\"/>\n",
       "<polyline fill=\"none\" stroke=\"#444443\" points=\"34.5,-56.5 34.5,-69.5 \"/>\n",
       "<text text-anchor=\"start\" x=\"24.33\" y=\"-59.7\" font-family=\"Helvetica,sans-Serif\" font-size=\"11.00\" fill=\"#444443\">a </text>\n",
       "<polygon fill=\"#d9e6f5\" stroke=\"transparent\" points=\"35.5,-56.5 35.5,-69.5 51.5,-69.5 51.5,-56.5 35.5,-56.5\"/>\n",
       "<text text-anchor=\"start\" x=\"36.5\" y=\"-59.7\" font-family=\"Helvetica,sans-Serif\" font-size=\"11.00\" fill=\"#444443\"> &#160;&#160;&#160;</text>\n",
       "</g>\n",
       "<!-- node4467517120&#45;&gt;node4467717600 -->\n",
       "<!-- node4467691840 -->\n",
       "<g id=\"node4\" class=\"node\">\n",
       "<title>node4467691840</title>\n",
       "<polygon fill=\"#fefecd\" stroke=\"#444443\" stroke-width=\"0.5\" points=\"163,-110 81,-110 81,-93 163,-93 163,-110\"/>\n",
       "<polygon fill=\"#fefecd\" stroke=\"transparent\" points=\"83,-94.5 83,-107.5 119,-107.5 119,-94.5 83,-94.5\"/>\n",
       "<text text-anchor=\"start\" x=\"82.69\" y=\"-97.7\" font-family=\"Helvetica,sans-Serif\" font-size=\"11.00\" fill=\"#444443\">&#39;global&#39; </text>\n",
       "<text text-anchor=\"start\" x=\"119\" y=\"-97.9\" font-family=\"Helvetica,sans-Serif\" font-size=\"9.00\" fill=\"#444443\">→</text>\n",
       "<polygon fill=\"#fefecd\" stroke=\"transparent\" points=\"128,-94.5 128,-107.5 161,-107.5 161,-94.5 128,-94.5\"/>\n",
       "<text text-anchor=\"start\" x=\"128.95\" y=\"-97.7\" font-family=\"Helvetica,sans-Serif\" font-size=\"11.00\" fill=\"#444443\"> &#39;yeah&#39;</text>\n",
       "</g>\n",
       "<!-- node4467517120&#45;&gt;node4467691840 -->\n",
       "<g id=\"edge3\" class=\"edge\">\n",
       "<title>node4467517120:c&#45;&gt;node4467691840</title>\n",
       "<path fill=\"none\" stroke=\"#444443\" stroke-width=\"0.5\" d=\"M68.96,-101.5C70.89,-101.5 73.51,-101.5 76.56,-101.5\"/>\n",
       "<ellipse fill=\"#444443\" stroke=\"#444443\" stroke-width=\"0.5\" cx=\"67.1\" cy=\"-101.5\" rx=\"1.6\" ry=\"1.6\"/>\n",
       "<polygon fill=\"#444443\" stroke=\"#444443\" stroke-width=\"0.5\" points=\"76.96,-102.9 80.96,-101.5 76.96,-100.1 76.96,-102.9\"/>\n",
       "</g>\n",
       "<!-- node4467514608 -->\n",
       "<g id=\"node3\" class=\"node\">\n",
       "<title>node4467514608</title>\n",
       "<polygon fill=\"#d9e6f5\" stroke=\"#444443\" stroke-width=\"0.5\" points=\"51,-47 22,-47 22,0 51,0 51,-47\"/>\n",
       "<polygon fill=\"#d9e6f5\" stroke=\"transparent\" points=\"24.5,-31.5 24.5,-44.5 49.5,-44.5 49.5,-31.5 24.5,-31.5\"/>\n",
       "<polyline fill=\"none\" stroke=\"#444443\" points=\"24.5,-31.5 49.5,-31.5 \"/>\n",
       "<text text-anchor=\"start\" x=\"26\" y=\"-34.7\" font-family=\"Times,serif\" font-style=\"italic\" font-size=\"11.00\" fill=\"#444443\">child</text>\n",
       "<polygon fill=\"#d9e6f5\" stroke=\"transparent\" points=\"24.5,-29.5 24.5,-31.5 49.5,-31.5 49.5,-29.5 24.5,-29.5\"/>\n",
       "<polygon fill=\"#d9e6f5\" stroke=\"transparent\" points=\"24.5,-16.5 24.5,-29.5 35.5,-29.5 35.5,-16.5 24.5,-16.5\"/>\n",
       "<polyline fill=\"none\" stroke=\"#444443\" points=\"35.5,-16.5 35.5,-29.5 \"/>\n",
       "<text text-anchor=\"start\" x=\"25.41\" y=\"-19.7\" font-family=\"Helvetica,sans-Serif\" font-size=\"11.00\" fill=\"#444443\">b </text>\n",
       "<polygon fill=\"#d9e6f5\" stroke=\"transparent\" points=\"35.5,-16.5 35.5,-29.5 49.5,-29.5 49.5,-16.5 35.5,-16.5\"/>\n",
       "<text text-anchor=\"start\" x=\"36.39\" y=\"-19.7\" font-family=\"Helvetica,sans-Serif\" font-size=\"11.00\" fill=\"#444443\"> &#160;&#160;&#160;</text>\n",
       "<polygon fill=\"#d9e6f5\" stroke=\"transparent\" points=\"24.5,-14.5 24.5,-16.5 49.5,-16.5 49.5,-14.5 24.5,-14.5\"/>\n",
       "<polygon fill=\"#d9e6f5\" stroke=\"transparent\" points=\"24.5,-1.5 24.5,-14.5 35.5,-14.5 35.5,-1.5 24.5,-1.5\"/>\n",
       "<polyline fill=\"none\" stroke=\"#444443\" points=\"35.5,-1.5 35.5,-14.5 \"/>\n",
       "<text text-anchor=\"start\" x=\"25.41\" y=\"-4.7\" font-family=\"Helvetica,sans-Serif\" font-size=\"11.00\" fill=\"#444443\">a </text>\n",
       "<polygon fill=\"#d9e6f5\" stroke=\"transparent\" points=\"35.5,-1.5 35.5,-14.5 49.5,-14.5 49.5,-1.5 35.5,-1.5\"/>\n",
       "<text text-anchor=\"start\" x=\"36.39\" y=\"-4.7\" font-family=\"Helvetica,sans-Serif\" font-size=\"11.00\" fill=\"#444443\"> &#160;&#160;&#160;</text>\n",
       "</g>\n",
       "<!-- node4467717600&#45;&gt;node4467514608 -->\n",
       "<!-- node4469337408 -->\n",
       "<g id=\"node5\" class=\"node\">\n",
       "<title>node4469337408</title>\n",
       "<polygon fill=\"none\" stroke=\"black\" stroke-width=\"0.5\" points=\"134,-73.5 110,-73.5 110,-43.5 134,-43.5 134,-73.5\"/>\n",
       "<polygon fill=\"#fefecd\" stroke=\"transparent\" points=\"111,-61.5 111,-72.5 123,-72.5 123,-61.5 111,-61.5\"/>\n",
       "<polyline fill=\"none\" stroke=\"black\" points=\"111,-61.5 123,-61.5 123,-72.5 \"/>\n",
       "<text text-anchor=\"start\" x=\"114.5\" y=\"-64.3\" font-family=\"Helvetica,sans-Serif\" font-size=\"9.00\" fill=\"#444443\">0</text>\n",
       "<polygon fill=\"#fefecd\" stroke=\"transparent\" points=\"123,-61.5 123,-72.5 133,-72.5 133,-61.5 123,-61.5\"/>\n",
       "<polyline fill=\"none\" stroke=\"black\" points=\"123,-61.5 133,-61.5 \"/>\n",
       "<text text-anchor=\"start\" x=\"125.5\" y=\"-64.3\" font-family=\"Helvetica,sans-Serif\" font-size=\"9.00\" fill=\"#444443\">1</text>\n",
       "<polygon fill=\"#fefecd\" stroke=\"transparent\" points=\"111,-44.5 111,-61.5 123,-61.5 123,-44.5 111,-44.5\"/>\n",
       "<polyline fill=\"none\" stroke=\"black\" points=\"123,-44.5 123,-61.5 \"/>\n",
       "<text text-anchor=\"start\" x=\"113.94\" y=\"-49.7\" font-family=\"Helvetica,sans-Serif\" font-size=\"11.00\" fill=\"#444443\">1</text>\n",
       "<polygon fill=\"#fefecd\" stroke=\"transparent\" points=\"123,-44.5 123,-61.5 133,-61.5 133,-44.5 123,-44.5\"/>\n",
       "<text text-anchor=\"start\" x=\"124.94\" y=\"-49.7\" font-family=\"Helvetica,sans-Serif\" font-size=\"11.00\" fill=\"#444443\">2</text>\n",
       "</g>\n",
       "<!-- node4467717600&#45;&gt;node4469337408 -->\n",
       "<g id=\"edge4\" class=\"edge\">\n",
       "<title>node4467717600:c&#45;&gt;node4469337408</title>\n",
       "<path fill=\"none\" stroke=\"#444443\" stroke-width=\"0.5\" d=\"M47.75,-62.33C57.48,-61.82 86.81,-60.29 105.27,-59.32\"/>\n",
       "<ellipse fill=\"#444443\" stroke=\"#444443\" stroke-width=\"0.5\" cx=\"46.1\" cy=\"-62.42\" rx=\"1.6\" ry=\"1.6\"/>\n",
       "<polygon fill=\"#444443\" stroke=\"#444443\" stroke-width=\"0.5\" points=\"105.79,-60.7 109.71,-59.09 105.64,-57.9 105.79,-60.7\"/>\n",
       "</g>\n",
       "<!-- node4467514608&#45;&gt;node4469337408 -->\n",
       "<g id=\"edge6\" class=\"edge\">\n",
       "<title>node4467514608:c&#45;&gt;node4469337408</title>\n",
       "<path fill=\"none\" stroke=\"#444443\" stroke-width=\"0.5\" d=\"M46.17,-9.54C52.25,-14.16 67.6,-25.68 81,-34.5 89.25,-39.93 98.73,-45.64 106.38,-50.13\"/>\n",
       "<ellipse fill=\"#444443\" stroke=\"#444443\" stroke-width=\"0.5\" cx=\"44.77\" cy=\"-8.47\" rx=\"1.6\" ry=\"1.6\"/>\n",
       "<polygon fill=\"#444443\" stroke=\"#444443\" stroke-width=\"0.5\" points=\"105.82,-51.42 109.98,-52.22 107.23,-49 105.82,-51.42\"/>\n",
       "</g>\n",
       "<!-- node4469335744 -->\n",
       "<g id=\"node6\" class=\"node\">\n",
       "<title>node4469335744</title>\n",
       "<polygon fill=\"#fefecd\" stroke=\"#444443\" stroke-width=\"0.5\" points=\"156,-31 88,-31 88,-14 156,-14 156,-31\"/>\n",
       "<polygon fill=\"#fefecd\" stroke=\"transparent\" points=\"90,-15.5 90,-28.5 119,-28.5 119,-15.5 90,-15.5\"/>\n",
       "<text text-anchor=\"start\" x=\"89.56\" y=\"-18.7\" font-family=\"Helvetica,sans-Serif\" font-size=\"11.00\" fill=\"#444443\">&#39;child&#39; </text>\n",
       "<text text-anchor=\"start\" x=\"119\" y=\"-18.9\" font-family=\"Helvetica,sans-Serif\" font-size=\"9.00\" fill=\"#444443\">→</text>\n",
       "<polygon fill=\"#fefecd\" stroke=\"transparent\" points=\"128,-15.5 128,-28.5 154,-28.5 154,-15.5 128,-15.5\"/>\n",
       "<text text-anchor=\"start\" x=\"128.81\" y=\"-18.7\" font-family=\"Helvetica,sans-Serif\" font-size=\"11.00\" fill=\"#444443\"> &#39;yes&#39;</text>\n",
       "</g>\n",
       "<!-- node4467514608&#45;&gt;node4469335744 -->\n",
       "<g id=\"edge5\" class=\"edge\">\n",
       "<title>node4467514608:c&#45;&gt;node4469335744</title>\n",
       "<path fill=\"none\" stroke=\"#444443\" stroke-width=\"0.5\" d=\"M46.99,-22.5C53.62,-22.5 68.69,-22.5 83.52,-22.5\"/>\n",
       "<ellipse fill=\"#444443\" stroke=\"#444443\" stroke-width=\"0.5\" cx=\"45.1\" cy=\"-22.5\" rx=\"1.6\" ry=\"1.6\"/>\n",
       "<polygon fill=\"#444443\" stroke=\"#444443\" stroke-width=\"0.5\" points=\"83.68,-23.9 87.68,-22.5 83.68,-21.1 83.68,-23.9\"/>\n",
       "</g>\n",
       "</g>\n",
       "</svg>\n"
      ],
      "text/plain": [
       "<graphviz.files.Source at 0x10a484a00>"
      ]
     },
     "metadata": {},
     "output_type": "display_data"
    }
   ],
   "source": [
    "def parent():\n",
    "    a = [1, 2]\n",
    "    def child():\n",
    "        b = {'child': 'yes'}\n",
    "        print(a)\n",
    "        print(b)\n",
    "        print(my_global)\n",
    "        display(callsviz(varnames=('a', 'b', 'my_global')))\n",
    "    \n",
    "    child()\n",
    "my_global = {'global': 'yeah'}\n",
    "parent()"
   ]
  },
  {
   "cell_type": "code",
   "execution_count": null,
   "metadata": {},
   "outputs": [],
   "source": []
  }
 ],
 "metadata": {
  "kernelspec": {
   "display_name": "Python 3",
   "language": "python",
   "name": "python3"
  },
  "language_info": {
   "codemirror_mode": {
    "name": "ipython",
    "version": 3
   },
   "file_extension": ".py",
   "mimetype": "text/x-python",
   "name": "python",
   "nbconvert_exporter": "python",
   "pygments_lexer": "ipython3",
   "version": "3.8.1"
  },
  "toc": {
   "base_numbering": 1,
   "nav_menu": {},
   "number_sections": true,
   "sideBar": true,
   "skip_h1_title": false,
   "title_cell": "Table of Contents",
   "title_sidebar": "Contents",
   "toc_cell": false,
   "toc_position": {},
   "toc_section_display": true,
   "toc_window_display": false
  }
 },
 "nbformat": 4,
 "nbformat_minor": 4
}
